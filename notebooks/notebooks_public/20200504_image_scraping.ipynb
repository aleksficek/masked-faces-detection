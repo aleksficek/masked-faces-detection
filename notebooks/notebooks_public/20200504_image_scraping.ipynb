{
 "cells": [
  {
   "cell_type": "code",
   "execution_count": 30,
   "metadata": {},
   "outputs": [
    {
     "output_type": "stream",
     "name": "stdout",
     "text": "The autoreload extension is already loaded. To reload it, use:\n  %reload_ext autoreload\n"
    }
   ],
   "source": [
    "# these lines are useful if you are modifying source code from a module that you are using in the notebook\n",
    "%load_ext autoreload\n",
    "%autoreload 2\n",
    "%matplotlib inline"
   ]
  },
  {
   "cell_type": "code",
   "execution_count": 3,
   "metadata": {},
   "outputs": [
    {
     "name": "stdout",
     "output_type": "stream",
     "text": [
      "Using settings for ENVIRONMENT=dev\n"
     ]
    }
   ],
   "source": [
    "from mask_detection import settings"
   ]
  },
  {
   "cell_type": "code",
   "execution_count": 4,
   "metadata": {},
   "outputs": [
    {
     "name": "stdout",
     "output_type": "stream",
     "text": [
      "Help on FileManager in module mask_detection.infrastructure.files object:\n",
      "\n",
      "class FileManager(builtins.object)\n",
      " |  Utility class to handle data files contained in a root folder\n",
      " |  \n",
      " |  Parameters\n",
      " |  ----------\n",
      " |  root: str\n",
      " |      absolute path to the root data folder\n",
      " |  \n",
      " |  \n",
      " |  >>> files = FileManager('/path/to/data/')\n",
      " |  >>> df = files.load('raw/iris.csv')\n",
      " |  # Loads dataframe from /path/to/data/raw/iris.csv\n",
      " |  >>> files.save(df, 'clean/iris.pickle')\n",
      " |  # saves to /path/to/data/clean/iris.pickle\n",
      " |  # end ensures 'clean' folder exists\n",
      " |  \n",
      " |  Methods defined here:\n",
      " |  \n",
      " |  __init__(self, root)\n",
      " |      Initialize self.  See help(type(self)) for accurate signature.\n",
      " |  \n",
      " |  ensure_folder_exists(self, abspath)\n",
      " |      creates subfolders if necessary\n",
      " |  \n",
      " |  get_filepath(self, relative_path, create_folders=False)\n",
      " |      Returns absolute path from relative to ``data/`` folder\n",
      " |  \n",
      " |  load(self, relative_path, *args, **kwargs)\n",
      " |      Loads .pickle and .csv from file relative to  ``data/`` folder\n",
      " |      \n",
      " |      Parameters\n",
      " |      ----------\n",
      " |      relative_path: str\n",
      " |          path relative to the application ``data/`` folder\n",
      " |      args:\n",
      " |          those are passed to the inner load function\n",
      " |      kwargs:\n",
      " |          those are passed to the inner load function\n",
      " |      \n",
      " |      \n",
      " |      >>> # this loads the file /path/to/data/raw/iris.csv\n",
      " |      >>> df = files.load('raw/iris.csv', nrows=10, dtype='str')\n",
      " |  \n",
      " |  save(self, thing, relative_path, *args, **kwargs)\n",
      " |      Save object (usually dataframe) to file\n",
      " |      \n",
      " |      Additional ``*args`` and ``**kwargs`` are passed to the underlying function.\n",
      " |      \n",
      " |      \n",
      " |      >>> df = pd.DataFrame()\n",
      " |      >>> files.save(df, 'clean/iris.pickle')\n",
      " |  \n",
      " |  ----------------------------------------------------------------------\n",
      " |  Data descriptors defined here:\n",
      " |  \n",
      " |  __dict__\n",
      " |      dictionary for instance variables (if defined)\n",
      " |  \n",
      " |  __weakref__\n",
      " |      list of weak references to the object (if defined)\n",
      "\n"
     ]
    }
   ],
   "source": [
    "from mask_detection.infrastructure import FileManager\n",
    "\n",
    "files = FileManager(settings.DATA_DIR)\n",
    "help(files)"
   ]
  },
  {
   "cell_type": "markdown",
   "metadata": {},
   "source": [
    "# Libraries import"
   ]
  },
  {
   "cell_type": "code",
   "execution_count": 1,
   "metadata": {},
   "outputs": [],
   "source": [
    "from bs4 import BeautifulSoup\n",
    "import requests\n",
    "import pandas as pd\n",
    "import time\n",
    "import io\n",
    "from PIL import Image\n",
    "import hashlib\n",
    "import selenium\n",
    "from selenium import webdriver"
   ]
  },
  {
   "cell_type": "markdown",
   "metadata": {},
   "source": [
    "# Function Definition"
   ]
  },
  {
   "cell_type": "code",
   "execution_count": 2,
   "metadata": {},
   "outputs": [],
   "source": [
    "def fetch_image_urls(query:str, max_links_to_fetch:int, wd:webdriver, sleep_between_interactions:int=1):\n",
    "    def scroll_to_end(wd):\n",
    "        wd.execute_script(\"window.scrollTo(0, document.body.scrollHeight);\")\n",
    "        time.sleep(sleep_between_interactions)    \n",
    "    \n",
    "    # build the google query\n",
    "    search_url = \"https://www.google.com/search?safe=off&site=&tbm=isch&source=hp&q={q}&oq={q}&gs_l=img\"\n",
    "\n",
    "    # load the page\n",
    "    wd.get(search_url.format(q=query))\n",
    "\n",
    "    image_urls = set()\n",
    "    image_count = 0\n",
    "    results_start = 0\n",
    "    while image_count < max_links_to_fetch:\n",
    "        scroll_to_end(wd)\n",
    "\n",
    "        # get all image thumbnail results\n",
    "        thumbnail_results = wd.find_elements_by_css_selector(\"img.Q4LuWd\")\n",
    "        number_results = len(thumbnail_results)\n",
    "        \n",
    "        print(f\"Found: {number_results} search results. Extracting links from {results_start}:{number_results}\")\n",
    "        \n",
    "        for img in thumbnail_results[results_start:number_results]:\n",
    "            # try to click every thumbnail such that we can get the real image behind it\n",
    "            try:\n",
    "                img.click()\n",
    "                time.sleep(sleep_between_interactions)\n",
    "            except Exception:\n",
    "                continue\n",
    "\n",
    "            # extract image urls    \n",
    "            actual_images = wd.find_elements_by_css_selector('img.n3VNCb')\n",
    "            for actual_image in actual_images:\n",
    "                if actual_image.get_attribute('src') and 'http' in actual_image.get_attribute('src'):\n",
    "                    image_urls.add(actual_image.get_attribute('src'))\n",
    "\n",
    "            image_count = len(image_urls)\n",
    "\n",
    "            if len(image_urls) >= max_links_to_fetch:\n",
    "                print(f\"Found: {len(image_urls)} image links, done!\")\n",
    "                break\n",
    "        else:\n",
    "            print(\"Found:\", len(image_urls), \"image links, looking for more ...\")\n",
    "            time.sleep(30)\n",
    "            return\n",
    "            load_more_button = wd.find_element_by_css_selector(\".mye4qd\")\n",
    "            if load_more_button:\n",
    "                wd.execute_script(\"document.querySelector('.mye4qd').click();\")\n",
    "\n",
    "        # move the result startpoint further down\n",
    "        results_start = len(thumbnail_results)\n",
    "\n",
    "    return image_urls\n",
    "\n",
    "#The function fetch_image_urls expects three input parameters:\n",
    "#query : Search term, like Covid mask\n",
    "#max_links_to_fetch : Number of links the scraper is supposed to collect\n",
    "#webdriver : instantiated Webdriver\n",
    "\n",
    "\n",
    "\n",
    "def persist_image(folder_path:str,url:str):\n",
    "    try:\n",
    "        image_content = requests.get(url).content\n",
    "\n",
    "    except Exception as e:\n",
    "        print(f\"ERROR - Could not download {url} - {e}\")\n",
    "\n",
    "    try:\n",
    "        image_file = io.BytesIO(image_content)\n",
    "        image = Image.open(image_file).convert('RGB')\n",
    "        file_path = os.path.join(folder_path,hashlib.sha1(image_content).hexdigest()[:10] + '.jpg')\n",
    "        with open(file_path, 'wb') as f:\n",
    "            image.save(f, \"JPEG\", quality=85)\n",
    "        print(f\"SUCCESS - saved {url} - as {file_path}\")\n",
    "    except Exception as e:\n",
    "        print(f\"ERROR - Could not save {url} - {e}\")\n",
    "\n",
    "def search_and_download(search_term:str,driver_path:str,target_path='./images',number_images=100):\n",
    "    target_folder = os.path.join(target_path,'_'.join(search_term.lower().split(' ')))\n",
    "\n",
    "    if not os.path.exists(target_folder):\n",
    "        os.makedirs(target_folder)\n",
    "\n",
    "    with webdriver.Chrome(executable_path=driver_path) as wd:\n",
    "        res = fetch_image_urls(search_term, number_images, wd=wd, sleep_between_interactions=0.5)\n",
    "        \n",
    "    for elem in res:\n",
    "        persist_image(target_folder,elem)"
   ]
  },
  {
   "cell_type": "code",
   "execution_count": 52,
   "metadata": {},
   "outputs": [],
   "source": [
    "# Put the path for your ChromeDriver here\n",
    "DRIVER_PATH = '/Users/louiserodriguez/Documents/Formation/Scraping/chromedriver'\n",
    "wd = webdriver.Chrome(executable_path=DRIVER_PATH)"
   ]
  },
  {
   "cell_type": "code",
   "execution_count": 58,
   "metadata": {},
   "outputs": [],
   "source": [
    "wd.get('https://google.com')"
   ]
  },
  {
   "cell_type": "code",
   "execution_count": 61,
   "metadata": {},
   "outputs": [],
   "source": [
    "search_box = wd.find_element_by_css_selector('input.gLFyf')\n",
    "search_box.send_keys('Masque Covid19')"
   ]
  },
  {
   "cell_type": "code",
   "execution_count": 62,
   "metadata": {},
   "outputs": [],
   "source": [
    "#to close de driver \n",
    "wd.quit()"
   ]
  },
  {
   "cell_type": "code",
   "execution_count": 4,
   "metadata": {},
   "outputs": [
    {
     "output_type": "stream",
     "name": "stdout",
     "text": "Found: 200 search results. Extracting links from 0:200\nFound: 100 image links, done!\nSUCCESS - saved https://encrypted-tbn0.gstatic.com/images?q=tbn%3AANd9GcRxGvObAWCRP8_oerAz2WSjZxRB7jwSCGJ2wX_9fvxLUBsQn5gy&usqp=CAU - as ./images/masque_covid19/40585c677e.jpg\nSUCCESS - saved https://encrypted-tbn0.gstatic.com/images?q=tbn%3AANd9GcRek6inBdCCHL4A8T-V1_MGARG04_5Pn_RPHcabRgAtSDAwes_C&usqp=CAU - as ./images/masque_covid19/5a4be2efdd.jpg\nSUCCESS - saved https://static.actu.fr/uploads/2020/03/masques-coronavirus-manche-psychologue-854x641-1.jpg - as ./images/masque_covid19/9428bf2be4.jpg\nSUCCESS - saved https://encrypted-tbn0.gstatic.com/images?q=tbn%3AANd9GcTvqHfxE0mzPaq6YVWPHLmjOYhvVwrBbLOe2RtRuOPRHkc4Xq1D&usqp=CAU - as ./images/masque_covid19/0b817a9348.jpg\nSUCCESS - saved https://encrypted-tbn0.gstatic.com/images?q=tbn%3AANd9GcTJ5p64_drIuT6IgNDFs-oYLwB487uaiycLYvVKABmensmnPGlB&usqp=CAU - as ./images/masque_covid19/dd647c354f.jpg\nSUCCESS - saved https://lh3.googleusercontent.com/proxy/zZvoMkXM1WqnFOtyh9H7DJj5qOScJjK-bMnhUwucFM42lM2awGBM52r_ytih87X4d1X9lg1x5X1BfI-hD4Xkg9y_47n2uQ5O4ErJczxfhIcgbxr0h9R-9ZyRH2exhn_xYS6WktGtDFErBWFHU2wVSj8 - as ./images/masque_covid19/c7c28989b4.jpg\nSUCCESS - saved https://encrypted-tbn0.gstatic.com/images?q=tbn%3AANd9GcRm0oGgRAoEnv9A_eNEm1m1eQXTaAh6qeyZjgJkyod0GuUfQaTK&usqp=CAU - as ./images/masque_covid19/64d6985683.jpg\nSUCCESS - saved https://remeng.rosselcdn.net/sites/default/files/dpistyles_v2/ena_16_9_in_line/2020/03/25/node_143629/11600507/public/2020/03/25/B9722990506Z.1_20200325205528_000%2BGVOFPOMCS.1-0.jpg?itok=2gcObCMp1586102131 - as ./images/masque_covid19/cc1e65629c.jpg\nSUCCESS - saved https://img-s-msn-com.akamaized.net/tenant/amp/entityid/BB12c8x8.img?h=0&w=720&m=6&q=60&u=t&o=f&l=f&x=393&y=236 - as ./images/masque_covid19/d164ff4b8c.jpg\nSUCCESS - saved https://www.leparisien.fr/resizer/sTHRtVzI9jciFt8wJvRc26o-7OM=/932x582/arc-anglerfish-eu-central-1-prod-leparisien.s3.amazonaws.com/public/EXRORUV6BO62H3HY6VRUMKHZC4.jpg - as ./images/masque_covid19/c4ec3f377e.jpg\nSUCCESS - saved https://encrypted-tbn0.gstatic.com/images?q=tbn%3AANd9GcQzEHrL2v1dl7_zf7f3JCWtAt-F0lomI7CxKm2rYGJDfaTaEEPU&usqp=CAU - as ./images/masque_covid19/ba11c1e24a.jpg\nSUCCESS - saved https://encrypted-tbn0.gstatic.com/images?q=tbn%3AANd9GcROqd-naVuCouJKWF7kEmzun1sr8dB2NiQpJuCDeJVsnlC1eeDH&usqp=CAU - as ./images/masque_covid19/bad1c5e627.jpg\nSUCCESS - saved https://www.lehavre.fr/sites/default/files/styles/mise_en_avant_landing/public/thumbnails/image/750_500_masque.jpg?itok=dPR5k65S - as ./images/masque_covid19/9fd40283de.jpg\nSUCCESS - saved https://evreux.fr/wp-content/uploads/2020/03/COVID19-mouchoir-masque-gants.png - as ./images/masque_covid19/cdd3f28268.jpg\nSUCCESS - saved https://encrypted-tbn0.gstatic.com/images?q=tbn%3AANd9GcRr6YRdLBz-OmrUwQgGkIkhvpoKY4JAlDMLXteK4gOt5VyKI2fa&usqp=CAU - as ./images/masque_covid19/db4442b190.jpg\nSUCCESS - saved https://www.beaugency.fr/wp-content/uploads/2020/03/masque-ex01.jpg - as ./images/masque_covid19/da67585df4.jpg\nSUCCESS - saved https://www.sciencesetavenir.fr/assets/img/2020/04/02/cover-r4x3w1000-5e8da26a17aba-200d57b762aa906b70f4ec2801d8e4b1abcd48e2-jpg.jpg - as ./images/masque_covid19/77711fbb17.jpg\nSUCCESS - saved https://encrypted-tbn0.gstatic.com/images?q=tbn%3AANd9GcQ2GiRj76D1B1D_RSAjDykpaKR0gBQXQzqICwLgtsXW6LFkXWac&usqp=CAU - as ./images/masque_covid19/e307d9ecbd.jpg\nSUCCESS - saved https://www.ra-sante.com/wp-content/uploads/2020/02/coronavirus-covid-19-masques-chirugicaux-_-RA-Sante%CC%81.jpg - as ./images/masque_covid19/8c38ecce1a.jpg\nSUCCESS - saved https://encrypted-tbn0.gstatic.com/images?q=tbn%3AANd9GcSiPagwCzDhQPKMnZFw4p0CtUnu0Q2YYpFCk_HnRuULuCSxJM-8&usqp=CAU - as ./images/masque_covid19/7610ab9072.jpg\nSUCCESS - saved https://france3-regions.francetvinfo.fr/auvergne-rhone-alpes/sites/regions_france3/files/styles/top_big/public/assets/images/2020/03/20/masque_tissu_maxppp-4709520.jpg?itok=lrRukVbb - as ./images/masque_covid19/8d1096b9e4.jpg\nSUCCESS - saved https://www.afm-telethon.fr/sites/default/files/actu-afm-masquescovid19.jpg - as ./images/masque_covid19/5ace5cd8d1.jpg\nSUCCESS - saved https://encrypted-tbn0.gstatic.com/images?q=tbn%3AANd9GcTPNHIj-X-3sJ9cXcQ8CgBnRWOL3Jv_gN7QvZfyiMPu6DjzHIKZ&usqp=CAU - as ./images/masque_covid19/7170d2370a.jpg\nSUCCESS - saved https://www.cma-landes.fr/content/uploads/2020/04/MasqueCovid_CMA_CCI_500.jpg - as ./images/masque_covid19/7f60adc4a9.jpg\nSUCCESS - saved https://encrypted-tbn0.gstatic.com/images?q=tbn%3AANd9GcSJ6_pRWWfG1XjRQi0eS28VsmikQrW2vDPybIKNwXjvKsHLWyGO&usqp=CAU - as ./images/masque_covid19/60a9ecb9ad.jpg\nSUCCESS - saved https://france3-regions.francetvinfo.fr/bourgogne-franche-comte/sites/regions_france3/files/styles/top_big/public/assets/images/2020/04/02/000_1qb1dy-4738242.jpg?itok=4Y9dYNeb - as ./images/masque_covid19/02f00a122b.jpg\nSUCCESS - saved https://encrypted-tbn0.gstatic.com/images?q=tbn%3AANd9GcRjDBPlxCleG-mlppcoV6JnWkHhM6q2-T5FwdteuYz6w7NUBN37&usqp=CAU - as ./images/masque_covid19/958649697e.jpg\nSUCCESS - saved https://encrypted-tbn0.gstatic.com/images?q=tbn%3AANd9GcSo7EddCAoKtQvuLs-tk9-uovvSU5J57BuxNXcdjmM_kMG5sIh5&usqp=CAU - as ./images/masque_covid19/b0a9a61426.jpg\nSUCCESS - saved https://fac.img.pmdstatic.net/fit/http.3A.2F.2Fprd2-bone-image.2Es3-website-eu-west-1.2Eamazonaws.2Ecom.2Ffac.2F2020.2F03.2F17.2F399eae66-03c1-41d8-890f-bbf0387680e0.2Ejpeg/800x600/quality/65/le-materiel-requis.jpg - as ./images/masque_covid19/c53eccf50e.jpg\nSUCCESS - saved https://encrypted-tbn0.gstatic.com/images?q=tbn%3AANd9GcRiXGLyc3_1iRoG_1bp48etBm1nBrSlvZBvdYeH9YwJILJ0bh3I&usqp=CAU - as ./images/masque_covid19/b469f963c9.jpg\nSUCCESS - saved https://lh3.googleusercontent.com/proxy/g851IoXeUbsB95pyIBASP-ZRSNr7zN_9DYO67mncPT8KM4_zAezjP8mk03IJCDaXJO2POjz8sOGorIIgH_4eGhTSo7njpkT9BSV3ZkP4N4rXG5QYneg5bVKz - as ./images/masque_covid19/dcb0ae115f.jpg\nSUCCESS - saved https://www.usine-digitale.fr/mediatheque/1/2/3/000856321_homePageUne/ffp3-hp.jpg - as ./images/masque_covid19/29ed45d4d9.jpg\nSUCCESS - saved https://encrypted-tbn0.gstatic.com/images?q=tbn%3AANd9GcRjG51oiBF69jByrzX4kZl03A6YvG9rLmZf4xm3BWpOfq0gPCHY&usqp=CAU - as ./images/masque_covid19/e6575a5da8.jpg\nSUCCESS - saved https://encrypted-tbn0.gstatic.com/images?q=tbn%3AANd9GcQ1882R_ndNajCLVOGR9W0qXP0K5d4zYryhiHsSdEvPo0D7lJ_1&usqp=CAU - as ./images/masque_covid19/b749dc55c7.jpg\nSUCCESS - saved https://encrypted-tbn0.gstatic.com/images?q=tbn%3AANd9GcSxNulPK6SRQq_jlwboPyDQCTJWOaDV9NC6auSqtR40gvKRKuAn&usqp=CAU - as ./images/masque_covid19/4b8f5e1de5.jpg\nSUCCESS - saved https://encrypted-tbn0.gstatic.com/images?q=tbn%3AANd9GcQMOO42k6G8FGbvbbGe6TEvg3XNzmzh6H66TD5TIwSelkzkURA9&usqp=CAU - as ./images/masque_covid19/3eca89ede9.jpg\nSUCCESS - saved https://www.lebigdata.fr/wp-content/uploads/2020/04/masque-covid-19.jpeg - as ./images/masque_covid19/6a1be4be73.jpg\nSUCCESS - saved https://encrypted-tbn0.gstatic.com/images?q=tbn%3AANd9GcQFQ5zT7ASqh0OzV7ZPvYmM84zpvFrjo9WulmjvG33kezt_dpVk&usqp=CAU - as ./images/masque_covid19/7e6ea05cf1.jpg\nSUCCESS - saved https://encrypted-tbn0.gstatic.com/images?q=tbn%3AANd9GcR9qypShOdSPCsVUXHcgZevRXAxzo7VS1sYemYY1TBbcrNha8fp&usqp=CAU - as ./images/masque_covid19/cde974c71b.jpg\nSUCCESS - saved https://i.ytimg.com/vi/l9lgI47veJA/maxresdefault.jpg - as ./images/masque_covid19/99bbd9b127.jpg\nSUCCESS - saved https://information.tv5monde.com/sites/info.tv5monde.com/files/styles/large/public/assets/images/AP_20083669494407.jpg?itok=_uC6mwxx - as ./images/masque_covid19/09b08fd3e9.jpg\nSUCCESS - saved https://lejournal.cnrs.fr/sites/default/files/styles/visuel_principal/public/assets/images/adobestock_331225411_72dpi_bis.jpg - as ./images/masque_covid19/5ddaf56f1b.jpg\nSUCCESS - saved https://encrypted-tbn0.gstatic.com/images?q=tbn%3AANd9GcSZffJF0vKZcoO40P4TnLyNUVvfvzkkxQbQtKywEg9puT7UoW2M&usqp=CAU - as ./images/masque_covid19/1d744f6939.jpg\nSUCCESS - saved https://encrypted-tbn0.gstatic.com/images?q=tbn%3AANd9GcTmlnGWZPjBm1W-912FcvknUFej2y457XQICDwsYuuj6NgqGbnT&usqp=CAU - as ./images/masque_covid19/5e2e4b200b.jpg\nSUCCESS - saved https://encrypted-tbn0.gstatic.com/images?q=tbn%3AANd9GcTypev7pB2zTEfFuKSmSHDHLQEe9cafC1aViSad2DqFRPmQuGjz&usqp=CAU - as ./images/masque_covid19/ecac8fb360.jpg\nSUCCESS - saved https://encrypted-tbn0.gstatic.com/images?q=tbn%3AANd9GcQwJkUm-Rm4ImD8_lJ3pLA6VCZCq2PSUguBJN-SR7DszHo4Ghyc&usqp=CAU - as ./images/masque_covid19/f078639fe6.jpg\nSUCCESS - saved https://encrypted-tbn0.gstatic.com/images?q=tbn%3AANd9GcTTs_u_OijZt2uc1wNrR_baOimpUzX6oQKbyzyTXLBi-tfH9c51&usqp=CAU - as ./images/masque_covid19/0ccdf018f4.jpg\nSUCCESS - saved https://encrypted-tbn0.gstatic.com/images?q=tbn%3AANd9GcTaeFFE_aBbHmxPPCjt7XikasowA5YDsJCHzvtbIB7SponaMbYo&usqp=CAU - as ./images/masque_covid19/99d6c678dc.jpg\nSUCCESS - saved https://images.radio-canada.ca/q_auto,w_1250/v1/ici-regions/16x9/masque-maison-fabrication-instructions-covid-19.jpg - as ./images/masque_covid19/8b449ff118.jpg\nSUCCESS - saved https://www.francetvinfo.fr/image/75rutlysj-c401/1200/450/21035975.jpg - as ./images/masque_covid19/568e6ce96d.jpg\nSUCCESS - saved https://lh3.googleusercontent.com/proxy/MUMrLQzvxcU_iCbpysDINi_MK8WqFl_4Z6E_0loapWMaOXzriptOOhFjSlgkJKre7alEUk6ic2yema6n2cr8l8MQEXSV1hzC6fv_I1L9CsyS5RBj_Y1gGlMorj0XRXYRBWwwAyFCwnHJEJiHAi8hcsrC3g1bkj6YNgGWRoGCwcUGY8K-pIfkTOG9KEU9ayffpZhrOvehZVtmyTWWuZMk_JnVggCqlwt5A0DVQBpuls8YZllM0WwmmeP0W7leBMmQXoaute56sC1H3uhzKqfu0UxFF1Ol_XJsTiNnDdACsr29Ix7sak8KobN7MzuYx0TiHy4SFVreJQLwheYBFBXIa1R9UvIW1CZJvdicexSzQuC_RZdS2NqzNXcjiw - as ./images/masque_covid19/9d96de1a10.jpg\nSUCCESS - saved https://encrypted-tbn0.gstatic.com/images?q=tbn%3AANd9GcQDCt04NlwEhvnHdhscuD9GqtIz4qi-jU8fhlAlQ5H9BvN8FSyN&usqp=CAU - as ./images/masque_covid19/75c49a916b.jpg\nSUCCESS - saved https://lorient-technopole.fr/wp-content/uploads/2020/03/covid19-masque-impression3D.jpg - as ./images/masque_covid19/72a1160b7f.jpg\nSUCCESS - saved https://www.ladn.eu/wp-content/uploads/2020/03/questions-coronavirus-vox.jpg - as ./images/masque_covid19/6a80c7ae3d.jpg\nSUCCESS - saved https://encrypted-tbn0.gstatic.com/images?q=tbn%3AANd9GcQfm_-2719SVb2poFpZZTbD_XzfzzCJ691CkniHSgFQOPn0vv6X&usqp=CAU - as ./images/masque_covid19/93443574e0.jpg\nSUCCESS - saved https://encrypted-tbn0.gstatic.com/images?q=tbn%3AANd9GcRj_ebuD4hcBuTYAKCOUIBEV-bmJsvzm9Mn8rS67oIAvKg7Vtag&usqp=CAU - as ./images/masque_covid19/71634b1fef.jpg\nSUCCESS - saved https://sante.public.lu/pictures/photos/coronavirus/port-des-masques.jpg - as ./images/masque_covid19/0826c6c5e1.jpg\nSUCCESS - saved https://encrypted-tbn0.gstatic.com/images?q=tbn%3AANd9GcS4qD2ymGhcwmSsOFR1YUW-H5tODAX54V40ko6CDpn3hjdx6WvW&usqp=CAU - as ./images/masque_covid19/b70c8d6333.jpg\nSUCCESS - saved https://encrypted-tbn0.gstatic.com/images?q=tbn%3AANd9GcTJvL3niLJguabSxxhe7HsJMD_f0N_bOCAaKNaYdEUVIstsAxT1&usqp=CAU - as ./images/masque_covid19/4420696608.jpg\nSUCCESS - saved https://pokaa.fr/wp-content/uploads/2020/03/masque-tissu-covid-19-chu-de-grenoble-credit-chu-de-grenoble.jpg - as ./images/masque_covid19/5f63cda4ab.jpg\nSUCCESS - saved https://aist87.sante-travail-limousin.org/wp-content/uploads/sites/4/2020/03/covid19-masque-chirurgical-.jpg - as ./images/masque_covid19/2acb0dd06a.jpg\nSUCCESS - saved https://encrypted-tbn0.gstatic.com/images?q=tbn%3AANd9GcQQTe1C8hzdaSmBBcuNPYGAyqKTxnjxZQFK3MJBv7NOGEYhz60U&usqp=CAU - as ./images/masque_covid19/cc4546fbf8.jpg\nSUCCESS - saved https://cdn.nimbu.io/s/gd6c0r0/pages/6zz4k8i/ffp2-mask.jpg?010p84c - as ./images/masque_covid19/6fcdea745f.jpg\nSUCCESS - saved https://cdn-media.rtl.fr/cache/h6MkWeOQ0754H_o3jESz6A/880v587-0/online/image/2020/0319/7800279125_une-femme-portant-un-masque-chirurgical-image-d-illustration.jpg - as ./images/masque_covid19/0356e75025.jpg\nSUCCESS - saved https://www.occitanie.ars.sante.fr/system/files/styles/ars_detail_page_content/private/2020-04/Visuel_%23COVID19_Masque.png?itok=3FzkNICD - as ./images/masque_covid19/3021819f80.jpg\nSUCCESS - saved https://encrypted-tbn0.gstatic.com/images?q=tbn%3AANd9GcRW7TwpT9cVXjBgujNvVt-C9AOu1Dh6VWGjHZHlXJj-ohc-mc5q&usqp=CAU - as ./images/masque_covid19/90c09d0c61.jpg\nSUCCESS - saved https://encrypted-tbn0.gstatic.com/images?q=tbn%3AANd9GcRxw9jdtrGLRdMWXQsSi3ciWDQ1_tXG5fwXt2KZj2KZLAeG-Biw&usqp=CAU - as ./images/masque_covid19/ec1cdf2df3.jpg\nSUCCESS - saved https://www.sciencesetavenir.fr/assets/img/2020/03/03/cover-r4x3w1000-5e5e6385d10b6-043-dpa-pa-200228-99-125260-dpai.jpg - as ./images/masque_covid19/e2a48159fd.jpg\nSUCCESS - saved https://www.lesadretsdelesterel.fr/wp-content/uploads/2020/04/2020-04-01-confection-de-masque.jpg - as ./images/masque_covid19/a8e7abea17.jpg\nSUCCESS - saved https://encrypted-tbn0.gstatic.com/images?q=tbn%3AANd9GcRgftuEoFbZQV9V4elZUeFTa_AdW_cPbkj8RU8PJ1sSYW8AtAMp&usqp=CAU - as ./images/masque_covid19/e31c91c737.jpg\nSUCCESS - saved https://encrypted-tbn0.gstatic.com/images?q=tbn%3AANd9GcQ7FhGJMv7Yp3oVnH3tZfY2c1fIL2f2-MdXB2b2Jux8CuNw10NS&usqp=CAU - as ./images/masque_covid19/516ff9afbb.jpg\nSUCCESS - saved https://www.usinenouvelle.com/mediatheque/6/0/5/000855506_image_896x598/la-gendarmerie-police-passent-une-commande-de.jpg - as ./images/masque_covid19/0e494484ae.jpg\nSUCCESS - saved https://encrypted-tbn0.gstatic.com/images?q=tbn%3AANd9GcRCdj6OBNU8EJMYsuWnA-E5NVMSuMDtq38zZayBIfIxzRZCqRLP&usqp=CAU - as ./images/masque_covid19/459f681447.jpg\nSUCCESS - saved https://encrypted-tbn0.gstatic.com/images?q=tbn%3AANd9GcT9TrXOu3eYXorREBejgAdu_04Qy-zaa9ghd2mxCtvlLRZualOx&usqp=CAU - as ./images/masque_covid19/c7084b2216.jpg\nSUCCESS - saved https://www.tendanceouest.com/photos/maxi/358389.jpg - as ./images/masque_covid19/63620c5760.jpg\nSUCCESS - saved https://fac.img.pmdstatic.net/fit/http.3A.2F.2Fprd2-bone-image.2Es3-website-eu-west-1.2Eamazonaws.2Ecom.2Ffac.2F2020.2F03.2F17.2F003f35b3-df55-4d70-bd59-98950acac8d2.2Ejpeg/885x600/quality/65/rendu-du-masque.jpg - as ./images/masque_covid19/6ee71d614b.jpg\nSUCCESS - saved https://encrypted-tbn0.gstatic.com/images?q=tbn%3AANd9GcRHOxKKPMJRbW7YaSIb_oZNco4mTXCq0DvRyINs6kFI4T6iCohC&usqp=CAU - as ./images/masque_covid19/e7e1e211f4.jpg\nSUCCESS - saved https://www.mairie-blagnac.fr/sites/default/files/styles/1144_auto/public/masquepage.png?itok=UBdyxlND - as ./images/masque_covid19/8d31a4bfb0.jpg\nSUCCESS - saved https://encrypted-tbn0.gstatic.com/images?q=tbn%3AANd9GcTK08r44BXKhX9bslhZNYfbEHQPnIrtveHKA7z53OZ4yVs39Sug&usqp=CAU - as ./images/masque_covid19/6f2988f5bc.jpg\nSUCCESS - saved https://encrypted-tbn0.gstatic.com/images?q=tbn%3AANd9GcROqmi_j41kHqM7TDCA0yi9QR5DZPXR7P3zlIvmZGBXsvzWH8Hx&usqp=CAU - as ./images/masque_covid19/f59b0e7068.jpg\nSUCCESS - saved https://resize2.prod.docfr.doc-media.fr/r/720,480,center-middle,ffffff,smartcrop/img/var/doctissimo/storage/images/fr/www/sante/epidemie/coronavirus-chinois/coronavirus-masques-maison/8255946-1-fre-FR/coronavirus-masques-maison.jpg - as ./images/masque_covid19/cce39c9f9c.jpg\nSUCCESS - saved https://www.alliancecommerce.org/wp-content/uploads/2020/03/Masques.png - as ./images/masque_covid19/a0ffb1770c.jpg\nSUCCESS - saved https://encrypted-tbn0.gstatic.com/images?q=tbn%3AANd9GcRuhhZq7xk_OmBOFsIOT0FjGKu-qlG_b-sGODwFUsGp5M4HYRjY&usqp=CAU - as ./images/masque_covid19/d1c9f0b165.jpg\nSUCCESS - saved https://www.reussir.fr/sites/portail-reussir/files/styles/petite_358_246_/public/video_thumbnails/mNbBBckLVFo.jpg?itok=0EpRvRYm - as ./images/masque_covid19/7f5218d707.jpg\nSUCCESS - saved https://www.usinenouvelle.com/mediatheque/9/8/1/000848189_image_896x598/kolmi-hopen-produit-masques-de-protection.jpg - as ./images/masque_covid19/ab8428b096.jpg\nSUCCESS - saved https://static.latribune.fr/full_width/1401753/masque-lille.jpg - as ./images/masque_covid19/7d26e96983.jpg\nSUCCESS - saved https://encrypted-tbn0.gstatic.com/images?q=tbn%3AANd9GcTh0ydpXIIuJ6fa91q-389dJRzqFH5vXtBAh68EQfJRZ3KrpAK6&usqp=CAU - as ./images/masque_covid19/35657a027e.jpg\nSUCCESS - saved https://i0.wp.com/asnieres-sur-seine.fr/wp-content/uploads/sites/2/2020/04/la-mairie-offre-un-masque-reutilisable-copie_2.jpg?fit=2048%2C759&ssl=1 - as ./images/masque_covid19/e6ffe95fef.jpg\nSUCCESS - saved https://encrypted-tbn0.gstatic.com/images?q=tbn%3AANd9GcTpfiAqKB8jcZeZjF8JDZnYQ8h7BagpbNXEvjHLRWk2R54dihGa&usqp=CAU - as ./images/masque_covid19/f8c13541b6.jpg\nSUCCESS - saved https://remeng.rosselcdn.net/sites/default/files/dpistyles_v2/ena_16_9_extra_big/2020/03/21/node_140390/11589294/public/2020/03/21/B9722992993Z.1_20200321113941_000%2BGG0FOPUV2.1-0.jpg?itok=_IDigVgS1584787190 - as ./images/masque_covid19/51aeedae39.jpg\nSUCCESS - saved https://encrypted-tbn0.gstatic.com/images?q=tbn%3AANd9GcQy0nwPAKNHr8rYCr8Vdxqqxw4coDYijoMDBZ7CmCoNGwxys_A3&usqp=CAU - as ./images/masque_covid19/cef9bd8b79.jpg\nSUCCESS - saved https://media.lesechos.com/api/v1/images/view/5e74bb50d286c205532625eb/par_defaut/image.jpg - as ./images/masque_covid19/2b233a74ee.jpg\nSUCCESS - saved https://encrypted-tbn0.gstatic.com/images?q=tbn%3AANd9GcThZw3bDAeeJEAyNa4dT9Sx8dpmP7NJl2Tt285LsfNoYmEPohlf&usqp=CAU - as ./images/masque_covid19/c3e4fa59dc.jpg\nSUCCESS - saved https://www.frenchtex.org/media/cache/large_article_item/uploads/ckeditor/img/Metiers/AnnonceCOVID19FrenchTEX.png - as ./images/masque_covid19/39914e2a73.jpg\nSUCCESS - saved https://www.francetvinfo.fr/image/75rw4202n-feef/580/326/21077717.jpg - as ./images/masque_covid19/a3d889fa12.jpg\nSUCCESS - saved https://sante-respiratoire.com/wp-content/uploads/2020/03/388-scaled.jpg - as ./images/masque_covid19/c42058a686.jpg\nSUCCESS - saved https://unric.org/fr/wp-content/uploads/sites/2/2020/03/ani-kolleshi-vu-DaZVeny0-unsplash-2-696x415.jpg - as ./images/masque_covid19/365ca0b089.jpg\nSUCCESS - saved https://www.sciencesetavenir.fr/assets/img/2020/03/19/cover-r4x3w1000-5e739ec8c6d77-ou-sont-les-masques-coronavirus-covid-19.jpg - as ./images/masque_covid19/91bd512389.jpg\nSUCCESS - saved https://www.infirmiers.com/images/grands-dossier/hygiene/masque-maison-g.jpg - as ./images/masque_covid19/9876302ab4.jpg\nSUCCESS - saved https://encrypted-tbn0.gstatic.com/images?q=tbn%3AANd9GcSnShB_pYCY7vT2P_FBFZVveaXGqlmEYUz89h-sToeXYCpWCFXP&usqp=CAU - as ./images/masque_covid19/dc1135c036.jpg\n"
    }
   ],
   "source": [
    "search_term = \"masque covid19\"\n",
    "DRIVER_PATH = '/Users/louiserodriguez/Documents/Formation/Scraping/chromedriver'\n",
    "\n",
    "search_and_download(\n",
    "    search_term= search_term,\n",
    "    driver_path= DRIVER_PATH,\n",
    "    target_path='./images',\n",
    "    number_images=100\n",
    ")"
   ]
  },
  {
   "cell_type": "code",
   "execution_count": 5,
   "metadata": {
    "tags": [
     "outputPrepend",
     "outputPrepend",
     "outputPrepend",
     "outputPrepend",
     "outputPrepend",
     "outputPrepend",
     "outputPrepend",
     "outputPrepend",
     "outputPrepend",
     "outputPrepend",
     "outputPrepend",
     "outputPrepend",
     "outputPrepend",
     "outputPrepend",
     "outputPrepend",
     "outputPrepend",
     "outputPrepend",
     "outputPrepend",
     "outputPrepend",
     "outputPrepend",
     "outputPrepend",
     "outputPrepend",
     "outputPrepend",
     "outputPrepend",
     "outputPrepend",
     "outputPrepend",
     "outputPrepend",
     "outputPrepend",
     "outputPrepend",
     "outputPrepend",
     "outputPrepend",
     "outputPrepend",
     "outputPrepend",
     "outputPrepend",
     "outputPrepend",
     "outputPrepend",
     "outputPrepend",
     "outputPrepend",
     "outputPrepend",
     "outputPrepend",
     "outputPrepend",
     "outputPrepend",
     "outputPrepend",
     "outputPrepend",
     "outputPrepend",
     "outputPrepend",
     "outputPrepend",
     "outputPrepend",
     "outputPrepend",
     "outputPrepend",
     "outputPrepend",
     "outputPrepend",
     "outputPrepend",
     "outputPrepend",
     "outputPrepend",
     "outputPrepend"
    ]
   },
   "outputs": [
    {
     "output_type": "stream",
     "name": "stdout",
     "text": "ue/1354b735e0.jpg\nSUCCESS - saved https://encrypted-tbn0.gstatic.com/images?q=tbn%3AANd9GcQmZdwTQRuBSSQhOlU5C08asvWtPtDvcs4KRBzdY_uNrZMq1ack&usqp=CAU - as ./images/masque/0a0261c843.jpg\nSUCCESS - saved https://www.printoclock.com/media/cache/app_itemblock_medium/b5/0a/b802212878280ac73707ab571567.jpeg - as ./images/masque/1d88967ae3.jpg\nSUCCESS - saved https://www.bastideleconfortmedical.com/project/resources/img/original/masquee2.jpg - as ./images/masque/f78c6ce3d9.jpg\nSUCCESS - saved https://www.lecyclo.com/components/com_virtuemart/shop_image/product/masque-anti-pollution-n99-double-valves-noir-vogmask_full_3.jpg - as ./images/masque/8fd25fb748.jpg\nSUCCESS - saved https://img-4.linternaute.com/DHyJZ82jpWqSbP_I-1XqL_p7ow0=/1240x/smart/a541f05d6e6b411c9742235dfa311a39/ccmcms-linternaute/15413476.jpg - as ./images/masque/97458eaf15.jpg\nSUCCESS - saved https://photos.lci.fr/images/613/344/innovation-le-masque-reutilisable-a-l-infini-de-michelin-20200425-2340-4d7587-0@1x.jpeg - as ./images/masque/1691fc0e59.jpg\nSUCCESS - saved https://encrypted-tbn0.gstatic.com/images?q=tbn%3AANd9GcS9AuJ5rQQXNJH-mlN7NbMIG5bU_xaa1JJhNC82Dthhwzdlshhm&usqp=CAU - as ./images/masque/8ff3ed095d.jpg\nFound: 200 search results. Extracting links from 0:200\nFound: 100 image links, done!\nSUCCESS - saved https://encrypted-tbn0.gstatic.com/images?q=tbn%3AANd9GcTnFzNMxYmKOwRLV72rYLLhy_5VUJ7ZX0E3yi9yl8pKyskviYc9&usqp=CAU - as ./images/crowd_coronavirus_mask/e6473d28fd.jpg\nSUCCESS - saved https://encrypted-tbn0.gstatic.com/images?q=tbn%3AANd9GcT-bRDCg8FyafJ5CknJ8z6Yw8nNGSIBj65zCRq12YDSbJjcH4YM&usqp=CAU - as ./images/crowd_coronavirus_mask/18d0ddad40.jpg\nSUCCESS - saved https://image.freepik.com/vecteurs-libre/infographie-prevention-coronavirus_23-2148509751.jpg - as ./images/crowd_coronavirus_mask/da8d7d5136.jpg\nSUCCESS - saved https://encrypted-tbn0.gstatic.com/images?q=tbn%3AANd9GcRbSZrmXYuw07qVmUEwXYsKF4K_UdvV4Axr-mnkw-HhS7EJfa9-&usqp=CAU - as ./images/crowd_coronavirus_mask/00881e3cdc.jpg\nSUCCESS - saved https://foreignpolicy.com/wp-content/uploads/2020/02/GettyImages-1199655440.jpg?w=800&h=533&quality=90 - as ./images/crowd_coronavirus_mask/909b79e0ac.jpg\nSUCCESS - saved https://foreignpolicy.com/wp-content/uploads/2020/01/Wuhan-China-safety-virus-GettyImages-1196130121.jpg - as ./images/crowd_coronavirus_mask/d025143620.jpg\nSUCCESS - saved https://assets.weforum.org/article/image/large_ajgrz3kKBTFR7vS8xJeR_cbVEAq79M0BTHvNNJOuueo.jpg - as ./images/crowd_coronavirus_mask/5e28cdbe97.jpg\nSUCCESS - saved https://i0.wp.com/www.middleeastmonitor.com/wp-content/uploads/2020/02/20200201_2_40626070_51733705.jpg?resize=1200%2C800&quality=85&strip=all&ssl=1 - as ./images/crowd_coronavirus_mask/85e9a6485d.jpg\nSUCCESS - saved https://encrypted-tbn0.gstatic.com/images?q=tbn%3AANd9GcR91pgIoR-ZYVMMwqQlxht3MSCstCpjJMZs2xj4JUmMvrDPvlKx&usqp=CAU - as ./images/crowd_coronavirus_mask/19049eb2f4.jpg\nSUCCESS - saved https://encrypted-tbn0.gstatic.com/images?q=tbn%3AANd9GcTU-9meHHuieV_75jOvxP6Zo8xEkFvLL_dm2Wz4xY1dbU536BAZ&usqp=CAU - as ./images/crowd_coronavirus_mask/7b98add945.jpg\nSUCCESS - saved https://images.wsj.net/im-148759?width=620&size=1.5 - as ./images/crowd_coronavirus_mask/cd32e75f4c.jpg\nSUCCESS - saved https://s.abcnews.com/images/International/korea-2-rt-er-200227_hpMain_16x9_992.jpg - as ./images/crowd_coronavirus_mask/cb348d4534.jpg\nSUCCESS - saved https://encrypted-tbn0.gstatic.com/images?q=tbn%3AANd9GcREG-FWxbsQdQAgtBkY6JA0Y0HErH9qz5xF13vJVozNmk9ZEUC-&usqp=CAU - as ./images/crowd_coronavirus_mask/6a1657ea07.jpg\nSUCCESS - saved https://africa.la-croix.com/wp-content/uploads/2020/02/lenvoi-milliers-masques-Chine-Vatican-tient-temoigner-preoccupation-Saint-Siege-sujet-cette-epidemie-photo-dillustration_0_729_493.jpg - as ./images/crowd_coronavirus_mask/b94090d272.jpg\nSUCCESS - saved https://encrypted-tbn0.gstatic.com/images?q=tbn%3AANd9GcSmhO6_tsLp7px3AYJE5Txy9ln6PrIRdXC4iGNvIjf0hYqRP9JT&usqp=CAU - as ./images/crowd_coronavirus_mask/eff3e7b008.jpg\nSUCCESS - saved https://encrypted-tbn0.gstatic.com/images?q=tbn%3AANd9GcSHRd2TkfVl52t7nQaTTtEYFaQGvg_S4OiT9hpDBTUCxJ5Qfs2U&usqp=CAU - as ./images/crowd_coronavirus_mask/02fc321d6c.jpg\nSUCCESS - saved https://ichef.bbci.co.uk/news/410/cpsprodpb/CFF6/production/_110783235_masks1.jpg - as ./images/crowd_coronavirus_mask/f08a8dcd5c.jpg\nSUCCESS - saved https://encrypted-tbn0.gstatic.com/images?q=tbn%3AANd9GcRCI4yAgx-5P-asY_xL8kag31NNs8p7dM4Nr6pchux46efuTOnL&usqp=CAU - as ./images/crowd_coronavirus_mask/6c61085ea6.jpg\nSUCCESS - saved https://media.gettyimages.com/photos/coronavirus-sars-mers-still-life-of-a-surgical-mask-and-crowd-of-in-picture-id1203706384?s=612x612 - as ./images/crowd_coronavirus_mask/33b595c543.jpg\nSUCCESS - saved https://vid.alarabiya.net/images/2020/03/24/2adfb652-54d9-4546-a4ac-471c35420479/2adfb652-54d9-4546-a4ac-471c35420479_16x9_600x338.JPG - as ./images/crowd_coronavirus_mask/e86c6e8b01.jpg\nSUCCESS - saved https://www.francetvinfo.fr/image/75rzekhq4-d950/260/146/21456389.jpg - as ./images/crowd_coronavirus_mask/979f191773.jpg\nSUCCESS - saved https://api.time.com/wp-content/uploads/2020/01/Hong-Kong-Flu.jpg - as ./images/crowd_coronavirus_mask/b7058bdd1e.jpg\nSUCCESS - saved https://i.guim.co.uk/img/media/ed041587dc894e508394d91b5b69654cb14d6790/0_267_4000_2400/master/4000.jpg?width=700&quality=85&auto=format&fit=max&s=9d8d7f1f574aedfcec0866af38278806 - as ./images/crowd_coronavirus_mask/5f82f61414.jpg\nSUCCESS - saved https://encrypted-tbn0.gstatic.com/images?q=tbn%3AANd9GcRqw9vN1qSSSNcCEH-jPOQfF0f_WrdCxljD2C2oZzORabhqkM-U&usqp=CAU - as ./images/crowd_coronavirus_mask/883e6b1ac8.jpg\nSUCCESS - saved https://encrypted-tbn0.gstatic.com/images?q=tbn%3AANd9GcRGXVZNGNEx2EHRqHpLgeXm18jXqVncKnN-0eGuP1eRbl_YJ0n5&usqp=CAU - as ./images/crowd_coronavirus_mask/e75e272848.jpg\nSUCCESS - saved https://i.insider.com/5e2b73fb24306a7c4f011fe3 - as ./images/crowd_coronavirus_mask/4b78e8bd66.jpg\nSUCCESS - saved https://encrypted-tbn0.gstatic.com/images?q=tbn%3AANd9GcS2f4aEOrjx4x2QqtCvjRnXKA65NfDCQaXzPW36zSqm53VNQbUg&usqp=CAU - as ./images/crowd_coronavirus_mask/c331a82394.jpg\nSUCCESS - saved https://www.sciencemag.org/sites/default/files/styles/inline__450w__no_aspect/public/indonesia_1280p.jpg?itok=886Dr4cs - as ./images/crowd_coronavirus_mask/f5a7190554.jpg\nSUCCESS - saved https://encrypted-tbn0.gstatic.com/images?q=tbn%3AANd9GcRNYjc8ns5KjcNEGuIUe0KCVn7RlUN9Ms_dy1u-f65za_5YuX9T&usqp=CAU - as ./images/crowd_coronavirus_mask/c4365e8e95.jpg\nSUCCESS - saved https://encrypted-tbn0.gstatic.com/images?q=tbn%3AANd9GcTufOS8D1QXTVRGmKosKfdbKJZwGwCbzN_24LTyHablo8zD-Xe6&usqp=CAU - as ./images/crowd_coronavirus_mask/cc105dd3cf.jpg\nSUCCESS - saved https://api.time.com/wp-content/uploads/2020/02/saudi-arabia-mecca-coronavirus.jpg?quality=85&w=1024&h=628&crop=1 - as ./images/crowd_coronavirus_mask/ea1188f09c.jpg\nSUCCESS - saved https://encrypted-tbn0.gstatic.com/images?q=tbn%3AANd9GcSpTnKqQehGTCgVTj_1jw3DtpqJ_4X4UZi8sB9QIqd2cJ9fon7h&usqp=CAU - as ./images/crowd_coronavirus_mask/4bc3593fe7.jpg\nSUCCESS - saved https://images.ladepeche.fr/api/v1/images/view/5eaf88653e454611135552b4/standard/image.jpg?v=1 - as ./images/crowd_coronavirus_mask/7d552d67f1.jpg\nSUCCESS - saved https://encrypted-tbn0.gstatic.com/images?q=tbn%3AANd9GcSjb0O9T-0thBeI022bjf-OWuMbb3zCUDuftP55BmcDrSl7MoHq&usqp=CAU - as ./images/crowd_coronavirus_mask/e1e73c6973.jpg\nSUCCESS - saved https://ca-times.brightspotcdn.com/dims4/default/6e16b4f/2147483647/strip/true/crop/5713x3809+0+0/resize/840x560!/quality/90/?url=https%3A%2F%2Fcalifornia-times-brightspot.s3.amazonaws.com%2F36%2F1f%2F7380b1f549f687a6c28e6a763db7%2Fepa-rex-mask-giveaway-in-hong-kong-amid-10550487f.JPG - as ./images/crowd_coronavirus_mask/d8fddeba2e.jpg\nSUCCESS - saved https://cdnfr7.img.sputniknews.com/img/104311/46/1043114623_0:0:3443:1832_705x375_80_0_0_5b5ef17a3d9657341f5bcf236cf69b69.jpg - as ./images/crowd_coronavirus_mask/51d070e614.jpg\nSUCCESS - saved https://encrypted-tbn0.gstatic.com/images?q=tbn%3AANd9GcRjy7tDqb8u_eK-HapPlQWJ1FBMJ28W0hK8Abxx6qPI-BVV4nHe&usqp=CAU - as ./images/crowd_coronavirus_mask/906c63dcf3.jpg\nSUCCESS - saved https://encrypted-tbn0.gstatic.com/images?q=tbn%3AANd9GcQ5q15qnsEHsajB0srSmSqgDVdvuQUHjPYBKp_j_9m2GiZBlJmE&usqp=CAU - as ./images/crowd_coronavirus_mask/e2c7d9e195.jpg\nSUCCESS - saved https://encrypted-tbn0.gstatic.com/images?q=tbn%3AANd9GcQIn8-boyRBkOe3T315_0eFdu_TvNVx0tuRXnkLbBaADJc6qjoM&usqp=CAU - as ./images/crowd_coronavirus_mask/4eb6348862.jpg\nSUCCESS - saved https://encrypted-tbn0.gstatic.com/images?q=tbn%3AANd9GcRdD2TtDztb8OzY-ltwP154rMp8yuhmLTxatpaWlLvHpmPBY8MM&usqp=CAU - as ./images/crowd_coronavirus_mask/b8e18783ce.jpg\nSUCCESS - saved https://emag.medicalexpo.com/wp-content/uploads/sites/9/Coronavirus-masks-AFP-1.jpg - as ./images/crowd_coronavirus_mask/cffa430ad5.jpg\nSUCCESS - saved https://us.123rf.com/450wm/melis/melis2003/melis200300363/144529353-woman-wearing-surgical-mask-in-crowd-coronavirus.jpg?ver=6 - as ./images/crowd_coronavirus_mask/a9617a0668.jpg\nSUCCESS - saved https://encrypted-tbn0.gstatic.com/images?q=tbn%3AANd9GcSzIxP9_ZNok2WuuuXm64Ro08AqhX4HFNxmF9ofw8TNVqj8_QUn&usqp=CAU - as ./images/crowd_coronavirus_mask/1cc373cfd7.jpg\nSUCCESS - saved https://frenchreligion-1278.kxcdn.com/wp-content/uploads/2020/04/istanbul-prayer-with-mask-iStock-1215088595_smaller.jpg - as ./images/crowd_coronavirus_mask/759eb330b5.jpg\nSUCCESS - saved https://encrypted-tbn0.gstatic.com/images?q=tbn%3AANd9GcTSygLtftR8JKyyYZ_doj2Ld8zkggcsGoluLakTmBrG9zd--UfB&usqp=CAU - as ./images/crowd_coronavirus_mask/771cf280ca.jpg\nSUCCESS - saved https://encrypted-tbn0.gstatic.com/images?q=tbn%3AANd9GcTNbm7TF6FeOnXK4X8kqpxiVp-gA2_m--nLjrjvCi3Aw5QEDn-H&usqp=CAU - as ./images/crowd_coronavirus_mask/b358da44d2.jpg\nSUCCESS - saved https://encrypted-tbn0.gstatic.com/images?q=tbn%3AANd9GcRZ3qit8vQUI09JE0nIUA1l9iYgyB4sPOoWQg3y64Nw_02a5soc&usqp=CAU - as ./images/crowd_coronavirus_mask/f5e3df33a1.jpg\nSUCCESS - saved https://s3.reutersmedia.net/resources/r/?m=02&d=20200420&t=2&i=1515694398&r=LYNXMPEG3J0G6&w=940 - as ./images/crowd_coronavirus_mask/ea96260069.jpg\nSUCCESS - saved https://image.shutterstock.com/image-vector/woman-wearing-protective-medical-mask-600w-1631897740.jpg - as ./images/crowd_coronavirus_mask/e04e1d3c17.jpg\nSUCCESS - saved https://www.aljazeera.com/mritems/imagecache/mbdxxlarge/mritems/Images/2020/2/7/9f3f14511bb7415aadf25c38f3f2c130_18.jpg - as ./images/crowd_coronavirus_mask/774bc0c73f.jpg\nSUCCESS - saved https://encrypted-tbn0.gstatic.com/images?q=tbn%3AANd9GcRN1z-VIFS88sP9wj7mUNK5hspKplhU9trYF6uBowRU98VsM0fj&usqp=CAU - as ./images/crowd_coronavirus_mask/43d0df2dbe.jpg\nSUCCESS - saved https://encrypted-tbn0.gstatic.com/images?q=tbn%3AANd9GcRJ3TId1F3cvAZwSH2ZPTWwEo6BX7V_V33kmd5ieJLOLuYy8qjN&usqp=CAU - as ./images/crowd_coronavirus_mask/fa10ecfe3f.jpg\nSUCCESS - saved https://encrypted-tbn0.gstatic.com/images?q=tbn%3AANd9GcTRGVHNDEWMQ7eMF_GF33LJrtPGYPW3Ld5Q0sAhbr69wSoG9Xz8&usqp=CAU - as ./images/crowd_coronavirus_mask/dadfb6e217.jpg\nSUCCESS - saved https://encrypted-tbn0.gstatic.com/images?q=tbn%3AANd9GcTQ1Y-R1JJBvLULHTOYhU5_2XGXqnWKg7ZU8o0-ZigRLIBn45T5&usqp=CAU - as ./images/crowd_coronavirus_mask/a1f8b67540.jpg\nSUCCESS - saved https://encrypted-tbn0.gstatic.com/images?q=tbn%3AANd9GcSTBhmCO65ppx3wY9dgZEf9iNW8zUo4ns-xiTdkX5OP656DUb8V&usqp=CAU - as ./images/crowd_coronavirus_mask/f9236c5915.jpg\nSUCCESS - saved https://encrypted-tbn0.gstatic.com/images?q=tbn%3AANd9GcRpAVLqEMpOVDvgDZokHddv_ZkMnWDzWevcCIsNrzIJfBTtUWS1&usqp=CAU - as ./images/crowd_coronavirus_mask/64a963848f.jpg\nSUCCESS - saved https://encrypted-tbn0.gstatic.com/images?q=tbn%3AANd9GcSu98afAzpMdYuLA7pt-m71DCi6AWDxQrVduwL-y_YjDpwYQBpB&usqp=CAU - as ./images/crowd_coronavirus_mask/ee433bfe22.jpg\nSUCCESS - saved https://encrypted-tbn0.gstatic.com/images?q=tbn%3AANd9GcSviv3zOZLqXKtY21K0QLw-rOfaKbR1Nw1DmqiasntewOpB6nmz&usqp=CAU - as ./images/crowd_coronavirus_mask/0ed79fcec8.jpg\nSUCCESS - saved https://encrypted-tbn0.gstatic.com/images?q=tbn%3AANd9GcSqCnb5p1wEDV-yxFkig7j1MoSQ9zKvddCHRMdPxtjhfUh15XNF&usqp=CAU - as ./images/crowd_coronavirus_mask/38d3a01c81.jpg\nSUCCESS - saved https://as1.ftcdn.net/jpg/03/20/53/46/500_F_320534632_rm6V0oH4fzpIMpwjYD1cEQDYkV1DQcw8.jpg - as ./images/crowd_coronavirus_mask/b350c59c72.jpg\nSUCCESS - saved https://www.mmtimes.com/sites/mmtimes.com/files/styles/mmtimes_ratio_c_normal_detail_image/public/news-images/coronavirus-impact-on-myanmars-foreign-investment-sector.jpg?itok=WF8EdkSj - as ./images/crowd_coronavirus_mask/d480207e94.jpg\nSUCCESS - saved https://encrypted-tbn0.gstatic.com/images?q=tbn%3AANd9GcRfGPU0lkZzb2eksGAxzfFvVrpjgFU0f8fkiJZ-sdrSK3D9rD_Q&usqp=CAU - as ./images/crowd_coronavirus_mask/65b4318455.jpg\nSUCCESS - saved https://d3v4jsc54141g1.cloudfront.net/uploads/reward_image/image/317724/nanox-kisskiss-1586792494.jpg - as ./images/crowd_coronavirus_mask/4358119c4f.jpg\nSUCCESS - saved https://encrypted-tbn0.gstatic.com/images?q=tbn%3AANd9GcQluI7fNuGEpoGp617PLm7ntvGOVDFjsFUqB5jViEokY8cpNj0o&usqp=CAU - as ./images/crowd_coronavirus_mask/abfa7e8437.jpg\nSUCCESS - saved https://encrypted-tbn0.gstatic.com/images?q=tbn%3AANd9GcQVuCfrsgMfSjg0OjfFiA9-RnqildveqbecZSzkc8-4BhsWM4H9&usqp=CAU - as ./images/crowd_coronavirus_mask/06576d0fd3.jpg\nSUCCESS - saved https://s3.reutersmedia.net/resources/r/?m=02&d=20200325&t=2&i=1508176650&r=LYNXMPEG2O1WP&w=1280 - as ./images/crowd_coronavirus_mask/d1687ac358.jpg\nSUCCESS - saved https://encrypted-tbn0.gstatic.com/images?q=tbn%3AANd9GcRTe507fIFE5BLTnzjKWKnnB-HEjRp51xJ0bLPEsG3qVSG-Zrfr&usqp=CAU - as ./images/crowd_coronavirus_mask/42ca499971.jpg\nSUCCESS - saved https://content.fortune.com/wp-content/uploads/2020/01/GettyImages-1196684248.jpg - as ./images/crowd_coronavirus_mask/09712226c6.jpg\nSUCCESS - saved https://cdn.radiofrance.fr/s3/cruiser-production/2020/03/db02c46a-8384-4f6b-aa3f-eacf58c72feb/860__img_20200307_182826.jpg - as ./images/crowd_coronavirus_mask/599a74ee46.jpg\nSUCCESS - saved https://media.ouest-france.fr/v1/pictures/MjAyMDA0ZDc2YzA5N2FlNTY0NDlmMDkwMWNkMTU5YTAyNWY4M2Y?width=480&height=270&focuspoint=50%2C25&cropresize=1&client_id=bpeditorial&sign=3cac4173dedcc0178ab19c9f204e79197329d7b24031ab4e5d62990eebdf3c96 - as ./images/crowd_coronavirus_mask/5ae5ed2434.jpg\nSUCCESS - saved https://encrypted-tbn0.gstatic.com/images?q=tbn%3AANd9GcT42PR30IMx0Yh-8HXHb86DeGPovaLdWD0x38EyDxsOOph-ijRW&usqp=CAU - as ./images/crowd_coronavirus_mask/bf15ae2f87.jpg\nSUCCESS - saved https://media.pri.org/s3fs-public/styles/story_main/public/images/2020/02/022820-coronavirus-saudi-arabia.jpg?itok=4PcRTFfa - as ./images/crowd_coronavirus_mask/83b862b55f.jpg\nSUCCESS - saved https://encrypted-tbn0.gstatic.com/images?q=tbn%3AANd9GcSEEd3rX3DFaojMOfdzqraKEcC8qXWDNCHpnOxZAdq3hKR4zwP2&usqp=CAU - as ./images/crowd_coronavirus_mask/8031322fdb.jpg\nSUCCESS - saved https://encrypted-tbn0.gstatic.com/images?q=tbn%3AANd9GcQEwR8GOkjbl76icXfYZVVwm6ErrwcEXAzdkkvwFMU444My6-oT&usqp=CAU - as ./images/crowd_coronavirus_mask/dba9731417.jpg\nSUCCESS - saved https://encrypted-tbn0.gstatic.com/images?q=tbn%3AANd9GcTdifUfBoWjQaZHhaBTUIws2fEH3BtSbFMABg2Q4Ocg3BQpUiVf&usqp=CAU - as ./images/crowd_coronavirus_mask/1df8b08a88.jpg\nSUCCESS - saved https://thumbs.dreamstime.com/z/woman-wearing-surgical-mask-crowd-coronavirus-170718221.jpg - as ./images/crowd_coronavirus_mask/bfd1b36141.jpg\nSUCCESS - saved https://encrypted-tbn0.gstatic.com/images?q=tbn%3AANd9GcQF46lpzdcwXW2399e_0nSLplQiz41dE1l7em5Liabkzxv5uaK3&usqp=CAU - as ./images/crowd_coronavirus_mask/182a49e49f.jpg\nSUCCESS - saved https://ichef.bbci.co.uk/news/410/cpsprodpb/6C9D/production/_111550872_gettyimages-1128162568.jpg - as ./images/crowd_coronavirus_mask/d2a8671bab.jpg\nSUCCESS - saved https://img-s-msn-com.akamaized.net/tenant/amp/entityid/BB10o6f4.img?h=630&w=1200&m=6&q=60&o=t&l=f&f=jpg&x=556&y=350 - as ./images/crowd_coronavirus_mask/abfeb87740.jpg\nSUCCESS - saved https://media.pri.org/s3fs-public/styles/w2304/public/images/2020/03/health-coronavirus-southkorea.jpg?itok=Het1ElZm - as ./images/crowd_coronavirus_mask/2092fa147a.jpg\nSUCCESS - saved https://encrypted-tbn0.gstatic.com/images?q=tbn%3AANd9GcSRKtf4UuRatMQncRsikBvpMlCi1fexxdEvHInUw8EWFkWn_MAT&usqp=CAU - as ./images/crowd_coronavirus_mask/d03e14b140.jpg\nSUCCESS - saved https://www.researchgate.net/profile/Abdullah_Assiri3/publication/259394036/figure/fig1/AS:269829957484546@1441343883753/Photograph-of-the-moving-Hajj-crowd-2013-from-elevated-area-to-obtain-face-views-and_Q320.jpg - as ./images/crowd_coronavirus_mask/2da92e241b.jpg\nSUCCESS - saved https://encrypted-tbn0.gstatic.com/images?q=tbn%3AANd9GcT8ESwI1uH8FmpTQa4FvbJ30YgjuQKRl34RBmGObv8Jt_a_wqLx&usqp=CAU - as ./images/crowd_coronavirus_mask/0effc95770.jpg\nSUCCESS - saved https://th.thgim.com/news/national/wmedvf/article30972997.ece/alternates/FREE_435/03IN-DISEASE - as ./images/crowd_coronavirus_mask/bc0801e5cd.jpg\nSUCCESS - saved https://encrypted-tbn0.gstatic.com/images?q=tbn%3AANd9GcQU5yNmMWSWbZleelD4wagqRETH4utyDEVNb8jocgVznHXq-EgZ&usqp=CAU - as ./images/crowd_coronavirus_mask/be92217874.jpg\nSUCCESS - saved https://resize-parismatch.lanmedia.fr/r/625,417/img/var/news/storage/images/paris-match/actu/sante/pres-de-50-000-morts-aux-etats-unis-distribution-de-masques-a-partir-du-4-mai-le-point-sur-le-coronavirus-1683092/27443149-2-fre-FR/22.245-morts-en-France-triste-bilan-aux-Etats-Unis-le-point-sur-le-coronavirus.jpg - as ./images/crowd_coronavirus_mask/6cca49061e.jpg\nSUCCESS - saved https://res.cloudinary.com/culturemap-com/image/upload/ar_4:3,c_fill,g_faces:center,w_1200/v1588342403/photos/311739_original.jpg - as ./images/crowd_coronavirus_mask/9b19ddf64a.jpg\nSUCCESS - saved https://encrypted-tbn0.gstatic.com/images?q=tbn%3AANd9GcRH41djkw85CMtmTdlEEWjyFr9bGMEjSfAK7_maQpQVBIbTRmE8&usqp=CAU - as ./images/crowd_coronavirus_mask/effae4d367.jpg\nSUCCESS - saved https://encrypted-tbn0.gstatic.com/images?q=tbn%3AANd9GcSq-s5jGA_ATDOk3NcMr0a7ucN5kUt869iWD7AX5QBeu_k-KxVU&usqp=CAU - as ./images/crowd_coronavirus_mask/49559634e5.jpg\nSUCCESS - saved https://encrypted-tbn0.gstatic.com/images?q=tbn%3AANd9GcSsMTE-Ju1VgTmLo3SiTqt5mgi_1CZUE1VRfqq94qdDyNzy3BtF&usqp=CAU - as ./images/crowd_coronavirus_mask/4deb279088.jpg\nSUCCESS - saved https://ewscripps.brightspotcdn.com/dims4/default/9439ff5/2147483647/strip/true/crop/0x0+0+0/resize/1280x720!/quality/90/?url=https%3A%2F%2Fwww.simplemost.com%2Fwp-content%2Fuploads%2F2020%2F02%2FGettyImages-1203545606-e1581015843465-500x333.jpg - as ./images/crowd_coronavirus_mask/723c6e9e95.jpg\nSUCCESS - saved https://cdn.cnn.com/cnnnext/dam/assets/200303112014-coronavirus-tokyo-0228-super-169.jpg - as ./images/crowd_coronavirus_mask/98359243ab.jpg\nSUCCESS - saved https://w.ndtvimg.com/sites/3/2020/03/16192151/660x330-mask-use-coronavirus.jpg - as ./images/crowd_coronavirus_mask/fd4a2253b4.jpg\nSUCCESS - saved https://encrypted-tbn0.gstatic.com/images?q=tbn%3AANd9GcQdWMgPdP_UFFRAp1Au__jLKmFMq3n_s2YR-BmOYdBbammFjYpe&usqp=CAU - as ./images/crowd_coronavirus_mask/1b7d8e0b36.jpg\nSUCCESS - saved https://encrypted-tbn0.gstatic.com/images?q=tbn%3AANd9GcRyixQopU4AdOjXMrLBGnVXvJfJ7EDrtzVyfQP9ScY4bEBbj8SZ&usqp=CAU - as ./images/crowd_coronavirus_mask/96520852d3.jpg\nSUCCESS - saved https://i.ytimg.com/vi/e3QoO42lZGo/maxresdefault.jpg - as ./images/crowd_coronavirus_mask/84e33858d2.jpg\nSUCCESS - saved https://cdn-media.rtl.fr/online/image/2020/0314/7800256843_un-supporter-du-psg-le-11-mars-2020-a-paris.jpg - as ./images/crowd_coronavirus_mask/fddfd82836.jpg\nSUCCESS - saved https://encrypted-tbn0.gstatic.com/images?q=tbn%3AANd9GcTsiMDarp_gF90J6_kkfLU75WUsPQlgOKW7ja7Eei4qZa76TdbO&usqp=CAU - as ./images/crowd_coronavirus_mask/ad9c939d20.jpg\nSUCCESS - saved https://encrypted-tbn0.gstatic.com/images?q=tbn%3AANd9GcSXxqaKVLqR246aMKXSX_NJX8nfaigeuJaSWnCU8bvjHuOA-_Cv&usqp=CAU - as ./images/crowd_coronavirus_mask/f9c2cd4f20.jpg\nSUCCESS - saved https://encrypted-tbn0.gstatic.com/images?q=tbn%3AANd9GcTBuKWaCnHfFQTuK2U0MKG6m2fkSJVq9wvvVJkNhvwij4rDE6db&usqp=CAU - as ./images/crowd_coronavirus_mask/7ca9d14995.jpg\n"
    }
   ],
   "source": [
    "#for mutliple key words \n",
    "\n",
    "search_terms = [\"masque covid19\", \"masque\", \"crowd coronavirus mask\"]\n",
    "\n",
    "for term in search_terms:\n",
    "    search_and_download(\n",
    "        search_term= term,\n",
    "        driver_path= DRIVER_PATH,\n",
    "        target_path='./images',\n",
    "        number_images=100\n",
    "    )"
   ]
  },
  {
   "cell_type": "code",
   "execution_count": null,
   "metadata": {},
   "outputs": [],
   "source": []
  }
 ],
 "metadata": {
  "kernelspec": {
   "display_name": "Python 3",
   "language": "python",
   "name": "python3"
  },
  "language_info": {
   "codemirror_mode": {
    "name": "ipython",
    "version": 3
   },
   "file_extension": ".py",
   "mimetype": "text/x-python",
   "name": "python",
   "nbconvert_exporter": "python",
   "pygments_lexer": "ipython3",
   "version": "3.7.4-final"
  }
 },
 "nbformat": 4,
 "nbformat_minor": 2
}