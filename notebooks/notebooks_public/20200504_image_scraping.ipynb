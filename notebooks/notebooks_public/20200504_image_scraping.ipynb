{
 "cells": [
  {
   "cell_type": "code",
   "execution_count": 30,
   "metadata": {},
   "outputs": [
    {
     "output_type": "stream",
     "name": "stdout",
     "text": "The autoreload extension is already loaded. To reload it, use:\n  %reload_ext autoreload\n"
    }
   ],
   "source": [
    "# these lines are useful if you are modifying source code from a module that you are using in the notebook\n",
    "%load_ext autoreload\n",
    "%autoreload 2\n",
    "%matplotlib inline"
   ]
  },
  {
   "cell_type": "code",
   "execution_count": 3,
   "metadata": {},
   "outputs": [
    {
     "name": "stdout",
     "output_type": "stream",
     "text": [
      "Using settings for ENVIRONMENT=dev\n"
     ]
    }
   ],
   "source": [
    "from mask_detection import settings"
   ]
  },
  {
   "cell_type": "code",
   "execution_count": 4,
   "metadata": {},
   "outputs": [
    {
     "name": "stdout",
     "output_type": "stream",
     "text": [
      "Help on FileManager in module mask_detection.infrastructure.files object:\n",
      "\n",
      "class FileManager(builtins.object)\n",
      " |  Utility class to handle data files contained in a root folder\n",
      " |  \n",
      " |  Parameters\n",
      " |  ----------\n",
      " |  root: str\n",
      " |      absolute path to the root data folder\n",
      " |  \n",
      " |  \n",
      " |  >>> files = FileManager('/path/to/data/')\n",
      " |  >>> df = files.load('raw/iris.csv')\n",
      " |  # Loads dataframe from /path/to/data/raw/iris.csv\n",
      " |  >>> files.save(df, 'clean/iris.pickle')\n",
      " |  # saves to /path/to/data/clean/iris.pickle\n",
      " |  # end ensures 'clean' folder exists\n",
      " |  \n",
      " |  Methods defined here:\n",
      " |  \n",
      " |  __init__(self, root)\n",
      " |      Initialize self.  See help(type(self)) for accurate signature.\n",
      " |  \n",
      " |  ensure_folder_exists(self, abspath)\n",
      " |      creates subfolders if necessary\n",
      " |  \n",
      " |  get_filepath(self, relative_path, create_folders=False)\n",
      " |      Returns absolute path from relative to ``data/`` folder\n",
      " |  \n",
      " |  load(self, relative_path, *args, **kwargs)\n",
      " |      Loads .pickle and .csv from file relative to  ``data/`` folder\n",
      " |      \n",
      " |      Parameters\n",
      " |      ----------\n",
      " |      relative_path: str\n",
      " |          path relative to the application ``data/`` folder\n",
      " |      args:\n",
      " |          those are passed to the inner load function\n",
      " |      kwargs:\n",
      " |          those are passed to the inner load function\n",
      " |      \n",
      " |      \n",
      " |      >>> # this loads the file /path/to/data/raw/iris.csv\n",
      " |      >>> df = files.load('raw/iris.csv', nrows=10, dtype='str')\n",
      " |  \n",
      " |  save(self, thing, relative_path, *args, **kwargs)\n",
      " |      Save object (usually dataframe) to file\n",
      " |      \n",
      " |      Additional ``*args`` and ``**kwargs`` are passed to the underlying function.\n",
      " |      \n",
      " |      \n",
      " |      >>> df = pd.DataFrame()\n",
      " |      >>> files.save(df, 'clean/iris.pickle')\n",
      " |  \n",
      " |  ----------------------------------------------------------------------\n",
      " |  Data descriptors defined here:\n",
      " |  \n",
      " |  __dict__\n",
      " |      dictionary for instance variables (if defined)\n",
      " |  \n",
      " |  __weakref__\n",
      " |      list of weak references to the object (if defined)\n",
      "\n"
     ]
    }
   ],
   "source": [
    "from mask_detection.infrastructure import FileManager\n",
    "\n",
    "files = FileManager(settings.DATA_DIR)\n",
    "help(files)"
   ]
  },
  {
   "cell_type": "markdown",
   "metadata": {},
   "source": [
    "# Function Definition"
   ]
  },
  {
   "cell_type": "code",
   "execution_count": 63,
   "metadata": {},
   "outputs": [],
   "source": [
    "def fetch_image_urls(query:str, max_links_to_fetch:int, wd:webdriver, sleep_between_interactions:int=1):\n",
    "    def scroll_to_end(wd):\n",
    "        wd.execute_script(\"window.scrollTo(0, document.body.scrollHeight);\")\n",
    "        time.sleep(sleep_between_interactions)    \n",
    "    \n",
    "    # build the google query\n",
    "    search_url = \"https://www.google.com/search?safe=off&site=&tbm=isch&source=hp&q={q}&oq={q}&gs_l=img\"\n",
    "\n",
    "    # load the page\n",
    "    wd.get(search_url.format(q=query))\n",
    "\n",
    "    image_urls = set()\n",
    "    image_count = 0\n",
    "    results_start = 0\n",
    "    while image_count < max_links_to_fetch:\n",
    "        scroll_to_end(wd)\n",
    "\n",
    "        # get all image thumbnail results\n",
    "        thumbnail_results = wd.find_elements_by_css_selector(\"img.Q4LuWd\")\n",
    "        number_results = len(thumbnail_results)\n",
    "        \n",
    "        print(f\"Found: {number_results} search results. Extracting links from {results_start}:{number_results}\")\n",
    "        \n",
    "        for img in thumbnail_results[results_start:number_results]:\n",
    "            # try to click every thumbnail such that we can get the real image behind it\n",
    "            try:\n",
    "                img.click()\n",
    "                time.sleep(sleep_between_interactions)\n",
    "            except Exception:\n",
    "                continue\n",
    "\n",
    "            # extract image urls    \n",
    "            actual_images = wd.find_elements_by_css_selector('img.n3VNCb')\n",
    "            for actual_image in actual_images:\n",
    "                if actual_image.get_attribute('src') and 'http' in actual_image.get_attribute('src'):\n",
    "                    image_urls.add(actual_image.get_attribute('src'))\n",
    "\n",
    "            image_count = len(image_urls)\n",
    "\n",
    "            if len(image_urls) >= max_links_to_fetch:\n",
    "                print(f\"Found: {len(image_urls)} image links, done!\")\n",
    "                break\n",
    "        else:\n",
    "            print(\"Found:\", len(image_urls), \"image links, looking for more ...\")\n",
    "            time.sleep(30)\n",
    "            return\n",
    "            load_more_button = wd.find_element_by_css_selector(\".mye4qd\")\n",
    "            if load_more_button:\n",
    "                wd.execute_script(\"document.querySelector('.mye4qd').click();\")\n",
    "\n",
    "        # move the result startpoint further down\n",
    "        results_start = len(thumbnail_results)\n",
    "\n",
    "    return image_urls\n",
    "\n",
    "#The function fetch_image_urls expects three input parameters:\n",
    "#query : Search term, like Covid mask\n",
    "#max_links_to_fetch : Number of links the scraper is supposed to collect\n",
    "#webdriver : instantiated Webdriver\n",
    "\n",
    "\n",
    "\n",
    "def persist_image(folder_path:str,url:str):\n",
    "    try:\n",
    "        image_content = requests.get(url).content\n",
    "\n",
    "    except Exception as e:\n",
    "        print(f\"ERROR - Could not download {url} - {e}\")\n",
    "\n",
    "    try:\n",
    "        image_file = io.BytesIO(image_content)\n",
    "        image = Image.open(image_file).convert('RGB')\n",
    "        file_path = os.path.join(folder_path,hashlib.sha1(image_content).hexdigest()[:10] + '.jpg')\n",
    "        with open(file_path, 'wb') as f:\n",
    "            image.save(f, \"JPEG\", quality=85)\n",
    "        print(f\"SUCCESS - saved {url} - as {file_path}\")\n",
    "    except Exception as e:\n",
    "        print(f\"ERROR - Could not save {url} - {e}\")\n",
    "\n",
    "def search_and_download(search_term:str,driver_path:str,target_path='./images',number_images=100):\n",
    "    target_folder = os.path.join(target_path,'_'.join(search_term.lower().split(' ')))\n",
    "\n",
    "    if not os.path.exists(target_folder):\n",
    "        os.makedirs(target_folder)\n",
    "\n",
    "    with webdriver.Chrome(executable_path=driver_path) as wd:\n",
    "        res = fetch_image_urls(search_term, number_images, wd=wd, sleep_between_interactions=0.5)\n",
    "        \n",
    "    for elem in res:\n",
    "        persist_image(target_folder,elem)"
   ]
  },
  {
   "cell_type": "markdown",
   "metadata": {},
   "source": [
    "# Libraries import"
   ]
  },
  {
   "cell_type": "code",
   "execution_count": 70,
   "metadata": {},
   "outputs": [],
   "source": [
    "from bs4 import BeautifulSoup\n",
    "import requests\n",
    "import pandas as pd\n",
    "import time\n",
    "import io\n",
    "from PIL import Image\n",
    "import hashlib\n",
    "import selenium\n",
    "from selenium import webdriver"
   ]
  },
  {
   "cell_type": "code",
   "execution_count": 52,
   "metadata": {},
   "outputs": [],
   "source": [
    "# Put the path for your ChromeDriver here\n",
    "DRIVER_PATH = '/Users/louiserodriguez/Documents/Formation/Scraping/chromedriver'\n",
    "wd = webdriver.Chrome(executable_path=DRIVER_PATH)"
   ]
  },
  {
   "cell_type": "code",
   "execution_count": 58,
   "metadata": {},
   "outputs": [],
   "source": [
    "wd.get('https://google.com')"
   ]
  },
  {
   "cell_type": "code",
   "execution_count": 61,
   "metadata": {},
   "outputs": [],
   "source": [
    "search_box = wd.find_element_by_css_selector('input.gLFyf')\n",
    "search_box.send_keys('Masque Covid19')"
   ]
  },
  {
   "cell_type": "code",
   "execution_count": 62,
   "metadata": {},
   "outputs": [],
   "source": [
    "#to close de driver \n",
    "wd.quit()"
   ]
  },
  {
   "cell_type": "code",
   "execution_count": 87,
   "metadata": {},
   "outputs": [
    {
     "output_type": "stream",
     "name": "stdout",
     "text": "Found: 200 search results. Extracting links from 0:200\nFound: 101 image links, done!\nSUCCESS - saved https://encrypted-tbn0.gstatic.com/images?q=tbn%3AANd9GcQSzJuM-iNSkSEDnUfTGJBSqUYVI4CfifwjtMSO0v54_1AcQ5zV&usqp=CAU - as ./images/masque_covid19/aef1543bea.jpg\nSUCCESS - saved https://www.leparisien.fr/resizer/6C5NnDeLqrt-V3IcKdfehQTuAKY=/932x582/arc-anglerfish-eu-central-1-prod-leparisien.s3.amazonaws.com/public/Y7OXGSZKHCDDSTRYSQNYL56XAQ.jpg - as ./images/masque_covid19/eac2da81aa.jpg\nSUCCESS - saved https://encrypted-tbn0.gstatic.com/images?q=tbn%3AANd9GcRW7TwpT9cVXjBgujNvVt-C9AOu1Dh6VWGjHZHlXJj-ohc-mc5q&usqp=CAU - as ./images/masque_covid19/90c09d0c61.jpg\nSUCCESS - saved https://www.ville-bondy.fr/wp-content/uploads/2020/04/MASQUE-COVID19-ACTU-SITE-03-1200x640.jpg - as ./images/masque_covid19/ac92259385.jpg\nSUCCESS - saved https://www.lamaisondelacouture.com/pub/media/magefan_blog/masque-covid19-cecile-maison-couture-grenoble.jpg - as ./images/masque_covid19/3ae9713b57.jpg\nSUCCESS - saved https://media.ouest-france.fr/v1/pictures/MjAyMDAzNDBiNmVlMDYzNjg0YzI2YjI5YzU2YTQyZDFjN2Q4ZTI?width=480&height=270&focuspoint=50%2C36&cropresize=1&client_id=bpeditorial&sign=efa5dffc62a61a9a777bd2a664683c98f3157c1e61982452b256b0bbf624a06b - as ./images/masque_covid19/a2ed588cd3.jpg\nSUCCESS - saved https://encrypted-tbn0.gstatic.com/images?q=tbn%3AANd9GcRBmIqX1hZK6FYu4LrA3Rpo_neGzTuwdotu19V0c58NyJLOOEm3&usqp=CAU - as ./images/masque_covid19/78fb6a7e1a.jpg\nSUCCESS - saved https://encrypted-tbn0.gstatic.com/images?q=tbn%3AANd9GcSrfQsouPP-kU8vyI3dBEDPs-NJe2IO7ohjAXv06kcywlyj9TIw&usqp=CAU - as ./images/masque_covid19/26dae03bd3.jpg\nSUCCESS - saved https://encrypted-tbn0.gstatic.com/images?q=tbn%3AANd9GcT0qEXUlSiIg3H8nJFx80e2Ns8w3bnFoJhEt6WsELeac6IkT-WA&usqp=CAU - as ./images/masque_covid19/80a4116e79.jpg\nSUCCESS - saved https://remeng.rosselcdn.net/sites/default/files/dpistyles_v2/ena_16_9_extra_big/2020/03/28/node_142161/11595066/public/2020/03/28/B9723061534Z.1_20200328175937_000%2BGGKFQ5KAU.1-0.jpg?itok=odUsrplN1585495637 - as ./images/masque_covid19/e15f4c060b.jpg\nSUCCESS - saved https://cdn-media.rtl.fr/cache/h6MkWeOQ0754H_o3jESz6A/880v587-0/online/image/2020/0319/7800279125_une-femme-portant-un-masque-chirurgical-image-d-illustration.jpg - as ./images/masque_covid19/0356e75025.jpg\nSUCCESS - saved https://encrypted-tbn0.gstatic.com/images?q=tbn%3AANd9GcTG_YgQE9xqxGkxMHg_R8BxoWVvoaWhIzQ4kMafAoZIJ0cRR4_W&usqp=CAU - as ./images/masque_covid19/243962c8c6.jpg\nSUCCESS - saved https://encrypted-tbn0.gstatic.com/images?q=tbn%3AANd9GcQFJqJpT2WZNFSHiwJKgv7biXVLhGxgJcXSvvHbe4FzX4r4-KRa&usqp=CAU - as ./images/masque_covid19/f95e01a430.jpg\nSUCCESS - saved https://cdn.radiofrance.fr/s3/cruiser-production/2020/03/5da246ab-1a29-4cd5-a689-95288a6356c4/870x489_macron_masque_thierry_gachon_maxnewsworldfive091849.jpg - as ./images/masque_covid19/be8a762132.jpg\nSUCCESS - saved https://encrypted-tbn0.gstatic.com/images?q=tbn%3AANd9GcTu2XemOmaWDY8xVD7UsaEkdih3kBBWLmxNhHSROp_qEwLeTadS&usqp=CAU - as ./images/masque_covid19/0307e3439b.jpg\nSUCCESS - saved https://www.un.org/sites/un2.un.org/files/styles/large-article-image-style-16-9/public/field/image/surgicalmask_covid.jpg?itok=a0UqyE8u - as ./images/masque_covid19/3340cf1a57.jpg\nSUCCESS - saved https://www.ladn.eu/wp-content/uploads/2020/03/questions-coronavirus-vox.jpg - as ./images/masque_covid19/6a80c7ae3d.jpg\nSUCCESS - saved https://encrypted-tbn0.gstatic.com/images?q=tbn%3AANd9GcQFQ5zT7ASqh0OzV7ZPvYmM84zpvFrjo9WulmjvG33kezt_dpVk&usqp=CAU - as ./images/masque_covid19/7e6ea05cf1.jpg\nSUCCESS - saved https://encrypted-tbn0.gstatic.com/images?q=tbn%3AANd9GcTMNI--E6YfdMC8yYFjj6P6jP_EcVbjXBlpOKtI679TlJ7MOiPI&usqp=CAU - as ./images/masque_covid19/eae199c04f.jpg\nERROR - Could not save https://euramaterials.eu/wp-content/uploads/2020/03/EuraMaterials_differents-masques-1024x696.jpg.webp - cannot identify image file <_io.BytesIO object at 0x120c68fb0>\nSUCCESS - saved https://encrypted-tbn0.gstatic.com/images?q=tbn%3AANd9GcR29YGCizVtA1nDrJUKd-feTRfJy5aKwO9bC-CaNnfpBZmyyIzF&usqp=CAU - as ./images/masque_covid19/a73ac011c6.jpg\nSUCCESS - saved https://france3-regions.francetvinfo.fr/bourgogne-franche-comte/sites/regions_france3/files/styles/top_big/public/assets/images/2020/03/30/masque-4728728.jpg?itok=DzoHXtOV - as ./images/masque_covid19/6f398a8230.jpg\nSUCCESS - saved https://encrypted-tbn0.gstatic.com/images?q=tbn%3AANd9GcSuvd8Df6JUyEdtvQnDumk3KGdynAKbJjIzbi9YNx6O4G6QtDQy&usqp=CAU - as ./images/masque_covid19/a724b53c4d.jpg\nSUCCESS - saved https://encrypted-tbn0.gstatic.com/images?q=tbn%3AANd9GcRxGvObAWCRP8_oerAz2WSjZxRB7jwSCGJ2wX_9fvxLUBsQn5gy&usqp=CAU - as ./images/masque_covid19/40585c677e.jpg\nSUCCESS - saved https://encrypted-tbn0.gstatic.com/images?q=tbn%3AANd9GcTiI0OKh0KOpwy1StZI21-42BQlqZJixfs-OuZi4NRct4ntux6L&usqp=CAU - as ./images/masque_covid19/cb477d5a1a.jpg\nSUCCESS - saved https://france3-regions.francetvinfo.fr/bourgogne-franche-comte/sites/regions_france3/files/styles/top_big/public/assets/images/2020/04/02/000_1qb1dy-4738242.jpg?itok=4Y9dYNeb - as ./images/masque_covid19/02f00a122b.jpg\nSUCCESS - saved https://encrypted-tbn0.gstatic.com/images?q=tbn%3AANd9GcQAI32j_n_oNZM6SUF8W8PG08-s7RfvhinTkg385Taz-wOY8KA_&usqp=CAU - as ./images/masque_covid19/e92726f580.jpg\nSUCCESS - saved https://www.leparisien.fr/resizer/IxcS7il2tR76VGoxEvsp9eQ5Vtc=/932x582/arc-anglerfish-eu-central-1-prod-leparisien.s3.amazonaws.com/public/TPVBRGDVLHUK7YQSAUTHV2FT4A.jpg - as ./images/masque_covid19/a719b97397.jpg\nSUCCESS - saved https://encrypted-tbn0.gstatic.com/images?q=tbn%3AANd9GcRANL4Tb0HDbYNgjefsqJo0wzf31FmmBqw7Ej2mT6M1w8ignV5E&usqp=CAU - as ./images/masque_covid19/8cfc8e156b.jpg\nSUCCESS - saved https://encrypted-tbn0.gstatic.com/images?q=tbn%3AANd9GcQ4Omutl08JN1l2W83TT5CbyhgtQsN_wGB-huH76glAU3pgNvgh&usqp=CAU - as ./images/masque_covid19/44dd40d937.jpg\nSUCCESS - saved https://www.inc-conso.fr/sites/default/files/gestes-barrieres-ademe-252.png - as ./images/masque_covid19/cc3631321e.jpg\nSUCCESS - saved https://encrypted-tbn0.gstatic.com/images?q=tbn%3AANd9GcQzHfJ8Yeo-WQqFcdoXSH4oA8OVK9zW3m5ocwlEKsTPuS8R9pb9&usqp=CAU - as ./images/masque_covid19/302077b268.jpg\nSUCCESS - saved https://encrypted-tbn0.gstatic.com/images?q=tbn%3AANd9GcSQA4HotVQMqAHMD4eaEDD7k9pzbcDn0AvoNl5ms5SSg7JAVcLi&usqp=CAU - as ./images/masque_covid19/83f60b7666.jpg\nSUCCESS - saved https://encrypted-tbn0.gstatic.com/images?q=tbn%3AANd9GcQ1IlYu5qWtL2HePcV6knCk4iyVRBAL52lYJCPWpNlsUXL04dBO&usqp=CAU - as ./images/masque_covid19/d016b23ac1.jpg\nSUCCESS - saved https://s3.eu-west-1.amazonaws.com/genial.ly/5746a9d9a7215f5c583e5845/38a470b3-4150-41ca-9f7f-edaa8ed68600.jpeg - as ./images/masque_covid19/d2cc0f8ba6.jpg\nSUCCESS - saved https://encrypted-tbn0.gstatic.com/images?q=tbn%3AANd9GcSpC9uAbIDpkbwkXdKfUkQL7VfRStUuNKwQ-iQznmtarSXSLk-a&usqp=CAU - as ./images/masque_covid19/4e4c1aa20a.jpg\nSUCCESS - saved https://images.ladepeche.fr/api/v1/images/view/5e591b03d286c277b7365b85/large/image.jpg?v=1 - as ./images/masque_covid19/8e2d264de0.jpg\nSUCCESS - saved https://encrypted-tbn0.gstatic.com/images?q=tbn%3AANd9GcRwksis7UmYpSjr0X2I8A6Zdg_OuGY_A3aJqg7WS5T56JnMvEsY&usqp=CAU - as ./images/masque_covid19/cb3d3934e1.jpg\nSUCCESS - saved https://medias.liberation.fr/photo/1296621-checknews-pharmacist-holds-a-protection-class-ffp2-respirator-mask-amid-the-novel-coronavirus-outbre.jpg?modified_at=1583252528&width=960 - as ./images/masque_covid19/67429936bc.jpg\nERROR - Could not save https://s.france24.com/media/display/887d3274-855f-11ea-87c3-005056bff430/w:1240/p:16x9/2020-04-07T192723Z_922518452_RC2VZF9LZ7QM_RTRMADP_3_HEALTH-CORONAVIRUS-FRANCE-TOLL.webp - cannot identify image file <_io.BytesIO object at 0x120d916b0>\nSUCCESS - saved https://encrypted-tbn0.gstatic.com/images?q=tbn%3AANd9GcT3B3YO4WrCGCI9rit9wimnKYTOhcjPAbURYbCj5Ieihx743uIA&usqp=CAU - as ./images/masque_covid19/a36f99e1bd.jpg\nSUCCESS - saved https://encrypted-tbn0.gstatic.com/images?q=tbn%3AANd9GcT0V-Q5JYLHlBRr8beqGyh_mhVwv-0g1FjpSQ5wznjMV5xOg2rR&usqp=CAU - as ./images/masque_covid19/1eb0c30a47.jpg\nSUCCESS - saved https://encrypted-tbn0.gstatic.com/images?q=tbn%3AANd9GcQXSxsG1hy0xgwSbXDcN6wfzY7s2s1xu8fAKmlUyImyf-CST_I4&usqp=CAU - as ./images/masque_covid19/8e89d13d1b.jpg\nSUCCESS - saved https://encrypted-tbn0.gstatic.com/images?q=tbn%3AANd9GcRAhvaiMlEXVbhu0tdMjhizuHAeUjYXKxM2rzdDsveKCiywnN0I&usqp=CAU - as ./images/masque_covid19/c39ae31e3c.jpg\nSUCCESS - saved https://encrypted-tbn0.gstatic.com/images?q=tbn%3AANd9GcRcE0CWAudf8aE2aM_xfPx0tGcowcpmco7HdczRSPUQwg_mzWwb&usqp=CAU - as ./images/masque_covid19/47d12a0910.jpg\nSUCCESS - saved https://encrypted-tbn0.gstatic.com/images?q=tbn%3AANd9GcSPctYmzRyYpF0hnVldoF-_keumoUu_TMJc6RYaSgUjYXtn5Y8l&usqp=CAU - as ./images/masque_covid19/be73d811fe.jpg\nSUCCESS - saved https://www.auvergnerhonealpes.fr/uploads/Actualite/79/IMF_100/GAB_CRRAA/842_582_02-AURA_MASQUE-COVID19-2020-RS-SITE-1200x600.jpg - as ./images/masque_covid19/3dfb596f1d.jpg\nSUCCESS - saved https://encrypted-tbn0.gstatic.com/images?q=tbn%3AANd9GcTwEO0wWSjSbSfi28uctvbUXzLY3iA6zX8rOEH8QvBQPgKqq8Ud&usqp=CAU - as ./images/masque_covid19/3c3fa5605a.jpg\nSUCCESS - saved https://images.radio-canada.ca/q_auto,w_1250/v1/ici-info/16x9/masques-covid-19-coronavirus-canada-sews.jpg - as ./images/masque_covid19/1ad5b70bbe.jpg\nSUCCESS - saved https://encrypted-tbn0.gstatic.com/images?q=tbn%3AANd9GcQIEPyeyZC6AsyxGME8IlFXC6bahFMaT_TPsmlGL9u_NT-Q1D0c&usqp=CAU - as ./images/masque_covid19/f12c1b7ba9.jpg\nSUCCESS - saved https://encrypted-tbn0.gstatic.com/images?q=tbn%3AANd9GcSq_Dj92q60f55DfKR03V2VlvzDRO2ZEMQRlZ6h4pkPH03J3dY6&usqp=CAU - as ./images/masque_covid19/c2564be3fc.jpg\nSUCCESS - saved https://france3-regions.francetvinfo.fr/auvergne-rhone-alpes/sites/regions_france3/files/styles/top_big/public/assets/images/2020/03/20/masque_tissu_maxppp-4709520.jpg?itok=lrRukVbb - as ./images/masque_covid19/8d1096b9e4.jpg\nSUCCESS - saved https://encrypted-tbn0.gstatic.com/images?q=tbn%3AANd9GcSyBcm1YWJuKq3OUsa2m53DS7Eyeu21XR1GrZuFThs0TZ3H8kkv&usqp=CAU - as ./images/masque_covid19/b54f949ac9.jpg\nSUCCESS - saved https://encrypted-tbn0.gstatic.com/images?q=tbn%3AANd9GcRfrXCu05r42vxPbPaNsgVE9S8PrB7mpuAKLAQWKkcm3DcOTzxF&usqp=CAU - as ./images/masque_covid19/df4aab8422.jpg\nSUCCESS - saved https://www.alliancecommerce.org/wp-content/uploads/2020/03/Masques.png - as ./images/masque_covid19/a0ffb1770c.jpg\nSUCCESS - saved https://medi-as.com/4796-large_default/masque-de-protection-covid-19-lavable.jpg - as ./images/masque_covid19/3f59427f40.jpg\nSUCCESS - saved https://lh3.googleusercontent.com/proxy/6RSWcmnBhpZ1sU8_FOlvVEGyA4Qk1TMVS3YW4ySYnIbKqgMxc3DPRRCZgADD23AHXO0dKhbjEjIYaCEyxJE5byadu8qytTJphvpqAxhRivkjhbEycIfCmN7mGby7oBotwdJslbbzFsCCF66FKgoLSjepF6kjJ8gAZ29SSReRyzoE_6nTk_-RtkMw66hs0ot0QWqNu2VqxZ73Vu5Ai3EMnoWQpjMOVnW7RzEgbXyTchnGoK5F0fed5ZYeAK1C0qgqwom19hdIaH7bqCmIU-D5zAdmsmEWJHgKXaz-8i6-VEEOLsPLmqp1_3utWYi_GahitFAw3Ka8hLyFUEbij47WNlI_gwMEBFP4987I0U3buYpZ-7OYfBDcS1hi7LKmGF2dxo0FHCBZ4YhLYXpKIOPsr3u-wjXVlMoHKq_h_YWN3wpEgDmnMT30i8s24ZgTOy_cA5kQLzEUwyszYs9sY8-kUjxc - as ./images/masque_covid19/54dc62751b.jpg\nSUCCESS - saved https://www.usinenouvelle.com/mediatheque/6/9/4/000855496_image_896x598/covid-19-les-tricots-saint-james-fabriquent.jpg - as ./images/masque_covid19/eede8bf401.jpg\nSUCCESS - saved https://encrypted-tbn0.gstatic.com/images?q=tbn%3AANd9GcS9zY1zHfLyepN0VndAW5B1id8wroZLtfpSdxrPEdmOUcPiwADx&usqp=CAU - as ./images/masque_covid19/9da7c3e596.jpg\nSUCCESS - saved https://www.usinenouvelle.com/mediatheque/6/4/4/000854446_image_896x598/masque-ffp2.jpg - as ./images/masque_covid19/2bf69fa93c.jpg\nSUCCESS - saved https://encrypted-tbn0.gstatic.com/images?q=tbn%3AANd9GcQEDjVfQ_1geRNQNMpbZvLIpZI_wt9jynN6Ac2rJ4e66iLQhj2Y&usqp=CAU - as ./images/masque_covid19/cacb879146.jpg\nSUCCESS - saved https://www.francetvinfo.fr/image/75rw3ifr0-2b87/578/325/21069263.jpg - as ./images/masque_covid19/16c075a487.jpg\nSUCCESS - saved https://img.lemde.fr/2020/03/14/0/0/5108/3034/688/0/60/0/f1719bf_6NquzMczh73adWMoEXxfhK2z.jpg - as ./images/masque_covid19/3dfe1c2540.jpg\nSUCCESS - saved https://remeng.rosselcdn.net/sites/default/files/dpistyles_v2/ena_16_9_in_line/2020/03/28/node_142161/11595065/public/2020/03/28/B9723061534Z.1_20200328175937_000%2BGGKFQ5KA6.1-0.jpg?itok=OK1fdMwQ1585495637 - as ./images/masque_covid19/276ac1ce8f.jpg\nSUCCESS - saved https://encrypted-tbn0.gstatic.com/images?q=tbn%3AANd9GcSVM34KQ7woZEec_OdhvPXu-P39vOZunp6J8xF41TjKfKLpSwhY&usqp=CAU - as ./images/masque_covid19/ace4a184d8.jpg\nSUCCESS - saved https://www.afm-telethon.fr/sites/default/files/actu-afm-masquescovid19.jpg - as ./images/masque_covid19/5ace5cd8d1.jpg\nSUCCESS - saved https://www.leparisien.fr/resizer/sTHRtVzI9jciFt8wJvRc26o-7OM=/932x582/arc-anglerfish-eu-central-1-prod-leparisien.s3.amazonaws.com/public/EXRORUV6BO62H3HY6VRUMKHZC4.jpg - as ./images/masque_covid19/c4ec3f377e.jpg\nSUCCESS - saved https://i2.wp.com/lemouvement.info/wp-content/uploads/2020/04/coronavirus-26.jpg?fit=1920%2C1280&ssl=1 - as ./images/masque_covid19/705ca88f24.jpg\nSUCCESS - saved https://remeng.rosselcdn.net/sites/default/files/dpistyles_v2/ena_16_9_extra_big/2020/03/21/node_140390/11589294/public/2020/03/21/B9722992993Z.1_20200321113941_000%2BGG0FOPUV2.1-0.jpg?itok=_IDigVgS1584787190 - as ./images/masque_covid19/51aeedae39.jpg\nSUCCESS - saved https://encrypted-tbn0.gstatic.com/images?q=tbn%3AANd9GcS1Lqb8mCacSeAhkfI4CMyTjaf5FJlRrh7WqUlMub00PnIxanVH&usqp=CAU - as ./images/masque_covid19/bdae8c1984.jpg\nSUCCESS - saved https://encrypted-tbn0.gstatic.com/images?q=tbn%3AANd9GcQYnDxiLgQRT4imYg5_-uPIe4yPLUxy0K1Mx037MPK6U7-jCIlL&usqp=CAU - as ./images/masque_covid19/f67880c60d.jpg\nSUCCESS - saved https://encrypted-tbn0.gstatic.com/images?q=tbn%3AANd9GcTK08r44BXKhX9bslhZNYfbEHQPnIrtveHKA7z53OZ4yVs39Sug&usqp=CAU - as ./images/masque_covid19/6f2988f5bc.jpg\nSUCCESS - saved https://www.usinenouvelle.com/mediatheque/1/3/9/000855931_image_896x598/atelier-joly-tarn-reorganisation-production.jpg - as ./images/masque_covid19/538c0e32b7.jpg\nSUCCESS - saved https://www.information-dentaire.fr/wp-content/thumbnails/uploads/2020/03/face-mask-4890115-e1583248074586-tt-width-900-height-630-fill-0-crop-1-bgcolor-f0f2f7.jpg - as ./images/masque_covid19/76df272078.jpg\nSUCCESS - saved https://www.beaugency.fr/wp-content/uploads/2020/03/masque-tissu-web-750x806.jpg - as ./images/masque_covid19/3c48b07ac5.jpg\nSUCCESS - saved https://images.lanouvellerepublique.fr/image/upload/t_1020w/5e78e3744fc5b4d81b8b45d1.jpg - as ./images/masque_covid19/319ecf0ecb.jpg\nSUCCESS - saved https://encrypted-tbn0.gstatic.com/images?q=tbn%3AANd9GcRDkVBf3B4FWaTfMlTJEIuIf4o8U9Y624_Gts1lY3J-127lQN8o&usqp=CAU - as ./images/masque_covid19/de4e73a3e3.jpg\nSUCCESS - saved https://encrypted-tbn0.gstatic.com/images?q=tbn%3AANd9GcQ_0b7hL-i9mMJlKFSO_nx2ljuZ-ZjuVyyQDxIWXhUal5JbMDLM&usqp=CAU - as ./images/masque_covid19/26a309e9ca.jpg\nSUCCESS - saved https://encrypted-tbn0.gstatic.com/images?q=tbn%3AANd9GcQClgMwtvTk-XgZKdvyw1ibOCVny143zvNsp5XI55OrTo5Stbjz&usqp=CAU - as ./images/masque_covid19/c770efaee7.jpg\nSUCCESS - saved https://i2.wp.com/creapills.com/wp-content/uploads/2020/03/masques-plonge-respirateur-isinnova-covid-19-home-1.png?fit=2400%2C1350&ssl=1 - as ./images/masque_covid19/48a6581cd2.jpg\nSUCCESS - saved https://pokaa.fr/wp-content/uploads/2020/03/masque-tissu-covid-19-chu-de-grenoble-credit-chu-de-grenoble.jpg - as ./images/masque_covid19/5f63cda4ab.jpg\nSUCCESS - saved https://static.lexpress.fr/medias_12210/w_2048,h_1146,c_crop,x_0,y_0/w_480,h_270,c_fill,g_north/v1586326367/une-ouvriere-emballe-des-masques-de-protection-a-l-usine-valmy-de-mably-loire-le-28-fevrier-2020_6251862.jpg - as ./images/masque_covid19/55f257d3a4.jpg\nSUCCESS - saved https://encrypted-tbn0.gstatic.com/images?q=tbn%3AANd9GcRafbpbjbfQw3aYnJaSKCJblOnJy_sdgnrR6st507omPKHubHNC&usqp=CAU - as ./images/masque_covid19/2c782919c5.jpg\nSUCCESS - saved https://www.francetvinfo.fr/image/75rutlysj-c401/1200/450/21035975.jpg - as ./images/masque_covid19/568e6ce96d.jpg\nSUCCESS - saved https://encrypted-tbn0.gstatic.com/images?q=tbn%3AANd9GcTypev7pB2zTEfFuKSmSHDHLQEe9cafC1aViSad2DqFRPmQuGjz&usqp=CAU - as ./images/masque_covid19/ecac8fb360.jpg\nSUCCESS - saved https://encrypted-tbn0.gstatic.com/images?q=tbn%3AANd9GcTvqHfxE0mzPaq6YVWPHLmjOYhvVwrBbLOe2RtRuOPRHkc4Xq1D&usqp=CAU - as ./images/masque_covid19/0b817a9348.jpg\nSUCCESS - saved https://lh3.googleusercontent.com/proxy/fORisrUqf0gLVDy3WlIL1Ky3mwnIzYP7hcFpJOe4Z6NnOP6gIoMTk2v5IkDGOELH60-oEZS-_EXrLqAtUbSycjMpKXWwTb5jcP3nYAsychsLDG7L1G2676hoDNdsJ3WEABCs01vV7f_zYdqJEHQb520TR2kFnwpHmHAuh81ZtkuNpIOGTu2EjnYyyaSk8RW2qXSvvysbcy4vM5FUTUG6QMBQYtenMZIoP4abcu_tESsL98OzD5lsXxlabMEd0rp-UCdUQqtTr330lGEKcuclsUTYREmVmUehYfct1nN5LTETxs0mtX8fiKdB2FVC6fswOgfi6SxVMKmWQ4WZs_Z-KdMFvtcnyhfH9_u0B31wbp0F974oFgsB4ssXcg - as ./images/masque_covid19/9d96de1a10.jpg\nSUCCESS - saved https://remiremontinfo.fr/wp-content/uploads/2020/02/masque.jpg - as ./images/masque_covid19/8b54bd6816.jpg\nSUCCESS - saved https://sante-respiratoire.com/wp-content/uploads/2020/03/388-scaled.jpg - as ./images/masque_covid19/c42058a686.jpg\nERROR - Could not save https://www.sdbio.eu/media/k2/items/cache/9b5ae2ddd25a714803c8e62862b17d63_XL.jpg - cannot identify image file <_io.BytesIO object at 0x120d91d70>\nSUCCESS - saved https://www.sciencesetavenir.fr/assets/img/2020/03/03/cover-r4x3w1000-5e5e6385d10b6-043-dpa-pa-200228-99-125260-dpai.jpg - as ./images/masque_covid19/e2a48159fd.jpg\nSUCCESS - saved https://encrypted-tbn0.gstatic.com/images?q=tbn%3AANd9GcS75UxhWouztX1uKeXZOsmF-mBfFB52kHac5RJHeQCcCdg2_eS_&usqp=CAU - as ./images/masque_covid19/0754280215.jpg\nSUCCESS - saved https://www.ra-sante.com/wp-content/uploads/2020/02/coronavirus-covid-19-masques-chirugicaux-_-RA-Sante%CC%81.jpg - as ./images/masque_covid19/8c38ecce1a.jpg\nSUCCESS - saved https://encrypted-tbn0.gstatic.com/images?q=tbn%3AANd9GcTYHBm4QWIpd3xqxLMrcVkyKtMu2s8GNlWtLlMm0tG_kUrBexZ4&usqp=CAU - as ./images/masque_covid19/07f3acf996.jpg\nSUCCESS - saved https://encrypted-tbn0.gstatic.com/images?q=tbn%3AANd9GcTS6CUcnDTUH34FnfLunhK26idyBcIdvRJaBjgpa6Bg4OSm2I-E&usqp=CAU - as ./images/masque_covid19/53a43423c7.jpg\nSUCCESS - saved https://static.cnews.fr/sites/default/files/styles/image_960_540/public/Diaporama/000_1qe5g5_5e89d1392d492_0.jpg - as ./images/masque_covid19/813e0ea910.jpg\nSUCCESS - saved https://www.sciencesetavenir.fr/assets/img/2020/04/02/cover-r4x3w1000-5e8da26a17aba-200d57b762aa906b70f4ec2801d8e4b1abcd48e2-jpg.jpg - as ./images/masque_covid19/77711fbb17.jpg\nSUCCESS - saved https://www.defense.gouv.fr/var/dicod/storage/images/base-de-medias/images/actualites/images-actu/masques-de-protection-contre-le-covid-192/9894747-1-fre-FR/masques-de-protection-contre-le-covid-19.jpg - as ./images/masque_covid19/3f183995a9.jpg\nSUCCESS - saved https://www.3dnatives.com/wp-content/uploads/masque_cover-1280x720.jpg - as ./images/masque_covid19/f53e1b0162.jpg\nSUCCESS - saved https://medias.liberation.fr/photo/1301500-check-news-a-woman-irons-a-protective-mask-during-a-training-class-so-that-she-can-sell-and-supply-d.jpg?modified_at=1584710781&width=960 - as ./images/masque_covid19/9cb8a55758.jpg\nSUCCESS - saved https://aist87.sante-travail-limousin.org/wp-content/uploads/sites/4/2020/03/covid19-masque-chirurgical-.jpg - as ./images/masque_covid19/2acb0dd06a.jpg\n"
    }
   ],
   "source": [
    "search_term = \"masque covid19\"\n",
    "\n",
    "search_and_download(\n",
    "    search_term= search_term,\n",
    "    driver_path= DRIVER_PATH\n",
    ")"
   ]
  }
 ],
 "metadata": {
  "kernelspec": {
   "display_name": "Python 3",
   "language": "python",
   "name": "python3"
  },
  "language_info": {
   "codemirror_mode": {
    "name": "ipython",
    "version": 3
   },
   "file_extension": ".py",
   "mimetype": "text/x-python",
   "name": "python",
   "nbconvert_exporter": "python",
   "pygments_lexer": "ipython3",
   "version": "3.7.4-final"
  }
 },
 "nbformat": 4,
 "nbformat_minor": 2
}